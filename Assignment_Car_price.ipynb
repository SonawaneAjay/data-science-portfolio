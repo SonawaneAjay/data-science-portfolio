{
  "nbformat": 4,
  "nbformat_minor": 0,
  "metadata": {
    "colab": {
      "name": "Assignment_Car_price.ipynb",
      "provenance": [],
      "collapsed_sections": [
        "O8uOJn4ObOGJ",
        "GCTWV-uGbOGY"
      ],
      "toc_visible": true,
      "include_colab_link": true
    },
    "kernelspec": {
      "display_name": "Python 3",
      "language": "python",
      "name": "python3"
    },
    "language_info": {
      "codemirror_mode": {
        "name": "ipython",
        "version": 3
      },
      "file_extension": ".py",
      "mimetype": "text/x-python",
      "name": "python",
      "nbconvert_exporter": "python",
      "pygments_lexer": "ipython3",
      "version": "3.7.6"
    }
  },
  "cells": [
    {
      "cell_type": "markdown",
      "metadata": {
        "id": "view-in-github",
        "colab_type": "text"
      },
      "source": [
        "<a href=\"https://colab.research.google.com/github/SonawaneAjay/data-science-portfolio/blob/master/Assignment_Car_price.ipynb\" target=\"_parent\"><img src=\"https://colab.research.google.com/assets/colab-badge.svg\" alt=\"Open In Colab\"/></a>"
      ]
    },
    {
      "cell_type": "markdown",
      "metadata": {
        "id": "Ey_xOs-BbOGB",
        "colab_type": "text"
      },
      "source": [
        "# Car Price Prediction Assignment\n",
        "**Name: Ajay Waman Sonawane**\n",
        "\n",
        "**Date: 30th July**\n",
        "\n",
        "## Task \n",
        "* Supervised predictive model need to be created which can predict the price column of the Vehicle based upon the various attributes(25) of the Vehicle\n",
        "* Build the Multivariate Linear regression model, verifying the assumptions of the linear regression hold true\n",
        "* Models should be evaluated based on the various metrics (Rsquare , Adjusted RSquare)\n",
        "* Plots need to be constructed to check the assumptions of the Regression\n",
        "* Model accuracy should be high but at the same time model should not be overfitted\n",
        "* Model should be built before and after removing the outliers to gauge the impact of outliers on the Behaviour of the Mathematical model\n",
        "* Feature Selection needs to done, which will tell the impact of feature is increasing the price and which feature has the diminishing impact on the price. Features with their respective importance score needs to be tabulated"
      ]
    },
    {
      "cell_type": "code",
      "metadata": {
        "colab_type": "code",
        "id": "F3bplMbA96i6",
        "colab": {
          "base_uri": "https://localhost:8080/",
          "height": 70
        },
        "outputId": "221c759d-863d-49aa-ba12-491485ecadbe"
      },
      "source": [
        "#Importing all necessary libraries\n",
        "import pandas as pd \n",
        "import numpy as np \n",
        "import matplotlib.pyplot as plt \n",
        "import seaborn as sns \n",
        "import sklearn"
      ],
      "execution_count": null,
      "outputs": [
        {
          "output_type": "stream",
          "text": [
            "/usr/local/lib/python3.6/dist-packages/statsmodels/tools/_testing.py:19: FutureWarning: pandas.util.testing is deprecated. Use the functions in the public API at pandas.testing instead.\n",
            "  import pandas.util.testing as tm\n"
          ],
          "name": "stderr"
        }
      ]
    },
    {
      "cell_type": "code",
      "metadata": {
        "colab_type": "code",
        "id": "OqV5gcZq-DYT",
        "colab": {}
      },
      "source": [
        "#Reading the given data file\n",
        "original_data = pd.read_csv('/content/Modified_Car_Price.csv')"
      ],
      "execution_count": null,
      "outputs": []
    },
    {
      "cell_type": "markdown",
      "metadata": {
        "id": "O8uOJn4ObOGJ",
        "colab_type": "text"
      },
      "source": [
        "## Data Exploration"
      ]
    },
    {
      "cell_type": "code",
      "metadata": {
        "id": "I6oStz4UbOGK",
        "colab_type": "code",
        "colab": {
          "base_uri": "https://localhost:8080/",
          "height": 34
        },
        "outputId": "4edfb2a0-2936-4dfe-fede-11d3c37fb4a5"
      },
      "source": [
        "original_data.shape"
      ],
      "execution_count": null,
      "outputs": [
        {
          "output_type": "execute_result",
          "data": {
            "text/plain": [
              "(205, 27)"
            ]
          },
          "metadata": {
            "tags": []
          },
          "execution_count": 3
        }
      ]
    },
    {
      "cell_type": "code",
      "metadata": {
        "id": "g7kEt0YsbOGO",
        "colab_type": "code",
        "colab": {
          "base_uri": "https://localhost:8080/",
          "height": 284
        },
        "outputId": "e9700328-388a-40bc-c895-eae3906df1b3"
      },
      "source": [
        "original_data.describe()"
      ],
      "execution_count": null,
      "outputs": [
        {
          "output_type": "execute_result",
          "data": {
            "text/html": [
              "<div>\n",
              "<style scoped>\n",
              "    .dataframe tbody tr th:only-of-type {\n",
              "        vertical-align: middle;\n",
              "    }\n",
              "\n",
              "    .dataframe tbody tr th {\n",
              "        vertical-align: top;\n",
              "    }\n",
              "\n",
              "    .dataframe thead th {\n",
              "        text-align: right;\n",
              "    }\n",
              "</style>\n",
              "<table border=\"1\" class=\"dataframe\">\n",
              "  <thead>\n",
              "    <tr style=\"text-align: right;\">\n",
              "      <th></th>\n",
              "      <th>Unnamed: 0</th>\n",
              "      <th>symboling</th>\n",
              "      <th>Wheel_Base</th>\n",
              "      <th>length</th>\n",
              "      <th>width</th>\n",
              "      <th>height</th>\n",
              "      <th>curb_weight</th>\n",
              "      <th>engine_size</th>\n",
              "      <th>compression_ratio</th>\n",
              "      <th>city_mpg</th>\n",
              "      <th>highway_mpg</th>\n",
              "    </tr>\n",
              "  </thead>\n",
              "  <tbody>\n",
              "    <tr>\n",
              "      <th>count</th>\n",
              "      <td>205.000000</td>\n",
              "      <td>205.000000</td>\n",
              "      <td>205.000000</td>\n",
              "      <td>205.000000</td>\n",
              "      <td>205.000000</td>\n",
              "      <td>205.000000</td>\n",
              "      <td>205.000000</td>\n",
              "      <td>205.000000</td>\n",
              "      <td>205.000000</td>\n",
              "      <td>205.000000</td>\n",
              "      <td>205.000000</td>\n",
              "    </tr>\n",
              "    <tr>\n",
              "      <th>mean</th>\n",
              "      <td>102.000000</td>\n",
              "      <td>0.834146</td>\n",
              "      <td>98.756585</td>\n",
              "      <td>174.049268</td>\n",
              "      <td>65.907805</td>\n",
              "      <td>53.724878</td>\n",
              "      <td>2555.565854</td>\n",
              "      <td>126.907317</td>\n",
              "      <td>10.142537</td>\n",
              "      <td>25.219512</td>\n",
              "      <td>30.751220</td>\n",
              "    </tr>\n",
              "    <tr>\n",
              "      <th>std</th>\n",
              "      <td>59.322565</td>\n",
              "      <td>1.245307</td>\n",
              "      <td>6.021776</td>\n",
              "      <td>12.337289</td>\n",
              "      <td>2.145204</td>\n",
              "      <td>2.443522</td>\n",
              "      <td>520.680204</td>\n",
              "      <td>41.642693</td>\n",
              "      <td>3.972040</td>\n",
              "      <td>6.542142</td>\n",
              "      <td>6.886443</td>\n",
              "    </tr>\n",
              "    <tr>\n",
              "      <th>min</th>\n",
              "      <td>0.000000</td>\n",
              "      <td>-2.000000</td>\n",
              "      <td>86.600000</td>\n",
              "      <td>141.100000</td>\n",
              "      <td>60.300000</td>\n",
              "      <td>47.800000</td>\n",
              "      <td>1488.000000</td>\n",
              "      <td>61.000000</td>\n",
              "      <td>7.000000</td>\n",
              "      <td>13.000000</td>\n",
              "      <td>16.000000</td>\n",
              "    </tr>\n",
              "    <tr>\n",
              "      <th>25%</th>\n",
              "      <td>51.000000</td>\n",
              "      <td>0.000000</td>\n",
              "      <td>94.500000</td>\n",
              "      <td>166.300000</td>\n",
              "      <td>64.100000</td>\n",
              "      <td>52.000000</td>\n",
              "      <td>2145.000000</td>\n",
              "      <td>97.000000</td>\n",
              "      <td>8.600000</td>\n",
              "      <td>19.000000</td>\n",
              "      <td>25.000000</td>\n",
              "    </tr>\n",
              "    <tr>\n",
              "      <th>50%</th>\n",
              "      <td>102.000000</td>\n",
              "      <td>1.000000</td>\n",
              "      <td>97.000000</td>\n",
              "      <td>173.200000</td>\n",
              "      <td>65.500000</td>\n",
              "      <td>54.100000</td>\n",
              "      <td>2414.000000</td>\n",
              "      <td>120.000000</td>\n",
              "      <td>9.000000</td>\n",
              "      <td>24.000000</td>\n",
              "      <td>30.000000</td>\n",
              "    </tr>\n",
              "    <tr>\n",
              "      <th>75%</th>\n",
              "      <td>153.000000</td>\n",
              "      <td>2.000000</td>\n",
              "      <td>102.400000</td>\n",
              "      <td>183.100000</td>\n",
              "      <td>66.900000</td>\n",
              "      <td>55.500000</td>\n",
              "      <td>2935.000000</td>\n",
              "      <td>141.000000</td>\n",
              "      <td>9.400000</td>\n",
              "      <td>30.000000</td>\n",
              "      <td>34.000000</td>\n",
              "    </tr>\n",
              "    <tr>\n",
              "      <th>max</th>\n",
              "      <td>204.000000</td>\n",
              "      <td>3.000000</td>\n",
              "      <td>120.900000</td>\n",
              "      <td>208.100000</td>\n",
              "      <td>72.300000</td>\n",
              "      <td>59.800000</td>\n",
              "      <td>4066.000000</td>\n",
              "      <td>326.000000</td>\n",
              "      <td>23.000000</td>\n",
              "      <td>49.000000</td>\n",
              "      <td>54.000000</td>\n",
              "    </tr>\n",
              "  </tbody>\n",
              "</table>\n",
              "</div>"
            ],
            "text/plain": [
              "       Unnamed: 0   symboling  ...    city_mpg  highway_mpg\n",
              "count  205.000000  205.000000  ...  205.000000   205.000000\n",
              "mean   102.000000    0.834146  ...   25.219512    30.751220\n",
              "std     59.322565    1.245307  ...    6.542142     6.886443\n",
              "min      0.000000   -2.000000  ...   13.000000    16.000000\n",
              "25%     51.000000    0.000000  ...   19.000000    25.000000\n",
              "50%    102.000000    1.000000  ...   24.000000    30.000000\n",
              "75%    153.000000    2.000000  ...   30.000000    34.000000\n",
              "max    204.000000    3.000000  ...   49.000000    54.000000\n",
              "\n",
              "[8 rows x 11 columns]"
            ]
          },
          "metadata": {
            "tags": []
          },
          "execution_count": 4
        }
      ]
    },
    {
      "cell_type": "code",
      "metadata": {
        "id": "Yvbjs6-kbOGQ",
        "colab_type": "code",
        "colab": {
          "base_uri": "https://localhost:8080/",
          "height": 588
        },
        "outputId": "2a1cb59d-ce9c-4362-aa77-5a6f0d5545be"
      },
      "source": [
        "original_data.info()"
      ],
      "execution_count": null,
      "outputs": [
        {
          "output_type": "stream",
          "text": [
            "<class 'pandas.core.frame.DataFrame'>\n",
            "RangeIndex: 205 entries, 0 to 204\n",
            "Data columns (total 27 columns):\n",
            " #   Column             Non-Null Count  Dtype  \n",
            "---  ------             --------------  -----  \n",
            " 0   Unnamed: 0         205 non-null    int64  \n",
            " 1   symboling          205 non-null    int64  \n",
            " 2   normalized_losses  205 non-null    object \n",
            " 3   Fuel_Type          205 non-null    object \n",
            " 4   Aspiration         205 non-null    object \n",
            " 5   No_of_Doors        205 non-null    object \n",
            " 6   Body_Style         205 non-null    object \n",
            " 7   Drive_Wheels       205 non-null    object \n",
            " 8   Engine_Location    205 non-null    object \n",
            " 9   Wheel_Base         205 non-null    float64\n",
            " 10  Manufacturer       205 non-null    object \n",
            " 11  length             205 non-null    float64\n",
            " 12  width              205 non-null    float64\n",
            " 13  height             205 non-null    float64\n",
            " 14  curb_weight        205 non-null    int64  \n",
            " 15  engine_type        205 non-null    object \n",
            " 16  num_of_cylinders   205 non-null    object \n",
            " 17  engine_size        205 non-null    int64  \n",
            " 18  fuel_system        205 non-null    object \n",
            " 19  bore               205 non-null    object \n",
            " 20  stroke             205 non-null    object \n",
            " 21  compression_ratio  205 non-null    float64\n",
            " 22  horsepower         205 non-null    object \n",
            " 23  peak_rpm           205 non-null    object \n",
            " 24  city_mpg           205 non-null    int64  \n",
            " 25  highway_mpg        205 non-null    int64  \n",
            " 26  price              205 non-null    object \n",
            "dtypes: float64(5), int64(6), object(16)\n",
            "memory usage: 43.4+ KB\n"
          ],
          "name": "stdout"
        }
      ]
    },
    {
      "cell_type": "code",
      "metadata": {
        "id": "QtHu_bYWbOGT",
        "colab_type": "code",
        "colab": {
          "base_uri": "https://localhost:8080/",
          "height": 232
        },
        "outputId": "e1cb3b1b-2a41-4d02-a487-2f48e69e72c4"
      },
      "source": [
        "original_data.head()"
      ],
      "execution_count": null,
      "outputs": [
        {
          "output_type": "execute_result",
          "data": {
            "text/html": [
              "<div>\n",
              "<style scoped>\n",
              "    .dataframe tbody tr th:only-of-type {\n",
              "        vertical-align: middle;\n",
              "    }\n",
              "\n",
              "    .dataframe tbody tr th {\n",
              "        vertical-align: top;\n",
              "    }\n",
              "\n",
              "    .dataframe thead th {\n",
              "        text-align: right;\n",
              "    }\n",
              "</style>\n",
              "<table border=\"1\" class=\"dataframe\">\n",
              "  <thead>\n",
              "    <tr style=\"text-align: right;\">\n",
              "      <th></th>\n",
              "      <th>Unnamed: 0</th>\n",
              "      <th>symboling</th>\n",
              "      <th>normalized_losses</th>\n",
              "      <th>Fuel_Type</th>\n",
              "      <th>Aspiration</th>\n",
              "      <th>No_of_Doors</th>\n",
              "      <th>Body_Style</th>\n",
              "      <th>Drive_Wheels</th>\n",
              "      <th>Engine_Location</th>\n",
              "      <th>Wheel_Base</th>\n",
              "      <th>Manufacturer</th>\n",
              "      <th>length</th>\n",
              "      <th>width</th>\n",
              "      <th>height</th>\n",
              "      <th>curb_weight</th>\n",
              "      <th>engine_type</th>\n",
              "      <th>num_of_cylinders</th>\n",
              "      <th>engine_size</th>\n",
              "      <th>fuel_system</th>\n",
              "      <th>bore</th>\n",
              "      <th>stroke</th>\n",
              "      <th>compression_ratio</th>\n",
              "      <th>horsepower</th>\n",
              "      <th>peak_rpm</th>\n",
              "      <th>city_mpg</th>\n",
              "      <th>highway_mpg</th>\n",
              "      <th>price</th>\n",
              "    </tr>\n",
              "  </thead>\n",
              "  <tbody>\n",
              "    <tr>\n",
              "      <th>0</th>\n",
              "      <td>0</td>\n",
              "      <td>3</td>\n",
              "      <td>?</td>\n",
              "      <td>gas</td>\n",
              "      <td>std</td>\n",
              "      <td>two</td>\n",
              "      <td>convertible</td>\n",
              "      <td>rwd</td>\n",
              "      <td>front</td>\n",
              "      <td>88.6</td>\n",
              "      <td>alfa-romero</td>\n",
              "      <td>168.8</td>\n",
              "      <td>64.1</td>\n",
              "      <td>48.8</td>\n",
              "      <td>2548</td>\n",
              "      <td>dohc</td>\n",
              "      <td>four</td>\n",
              "      <td>130</td>\n",
              "      <td>mpfi</td>\n",
              "      <td>3.47</td>\n",
              "      <td>2.68</td>\n",
              "      <td>9.0</td>\n",
              "      <td>111</td>\n",
              "      <td>5000</td>\n",
              "      <td>21</td>\n",
              "      <td>27</td>\n",
              "      <td>13495</td>\n",
              "    </tr>\n",
              "    <tr>\n",
              "      <th>1</th>\n",
              "      <td>1</td>\n",
              "      <td>3</td>\n",
              "      <td>?</td>\n",
              "      <td>gas</td>\n",
              "      <td>std</td>\n",
              "      <td>two</td>\n",
              "      <td>convertible</td>\n",
              "      <td>rwd</td>\n",
              "      <td>front</td>\n",
              "      <td>88.6</td>\n",
              "      <td>alfa-romero</td>\n",
              "      <td>168.8</td>\n",
              "      <td>64.1</td>\n",
              "      <td>48.8</td>\n",
              "      <td>2548</td>\n",
              "      <td>dohc</td>\n",
              "      <td>four</td>\n",
              "      <td>130</td>\n",
              "      <td>mpfi</td>\n",
              "      <td>3.47</td>\n",
              "      <td>2.68</td>\n",
              "      <td>9.0</td>\n",
              "      <td>111</td>\n",
              "      <td>5000</td>\n",
              "      <td>21</td>\n",
              "      <td>27</td>\n",
              "      <td>16500</td>\n",
              "    </tr>\n",
              "    <tr>\n",
              "      <th>2</th>\n",
              "      <td>2</td>\n",
              "      <td>1</td>\n",
              "      <td>?</td>\n",
              "      <td>gas</td>\n",
              "      <td>std</td>\n",
              "      <td>two</td>\n",
              "      <td>hatchback</td>\n",
              "      <td>rwd</td>\n",
              "      <td>front</td>\n",
              "      <td>94.5</td>\n",
              "      <td>alfa-romero</td>\n",
              "      <td>171.2</td>\n",
              "      <td>65.5</td>\n",
              "      <td>52.4</td>\n",
              "      <td>2823</td>\n",
              "      <td>ohcv</td>\n",
              "      <td>six</td>\n",
              "      <td>152</td>\n",
              "      <td>mpfi</td>\n",
              "      <td>2.68</td>\n",
              "      <td>3.47</td>\n",
              "      <td>9.0</td>\n",
              "      <td>154</td>\n",
              "      <td>5000</td>\n",
              "      <td>19</td>\n",
              "      <td>26</td>\n",
              "      <td>16500</td>\n",
              "    </tr>\n",
              "    <tr>\n",
              "      <th>3</th>\n",
              "      <td>3</td>\n",
              "      <td>2</td>\n",
              "      <td>164</td>\n",
              "      <td>gas</td>\n",
              "      <td>std</td>\n",
              "      <td>four</td>\n",
              "      <td>sedan</td>\n",
              "      <td>fwd</td>\n",
              "      <td>front</td>\n",
              "      <td>99.8</td>\n",
              "      <td>audi</td>\n",
              "      <td>176.6</td>\n",
              "      <td>66.2</td>\n",
              "      <td>54.3</td>\n",
              "      <td>2337</td>\n",
              "      <td>ohc</td>\n",
              "      <td>four</td>\n",
              "      <td>109</td>\n",
              "      <td>mpfi</td>\n",
              "      <td>3.19</td>\n",
              "      <td>3.4</td>\n",
              "      <td>10.0</td>\n",
              "      <td>102</td>\n",
              "      <td>5500</td>\n",
              "      <td>24</td>\n",
              "      <td>30</td>\n",
              "      <td>13950</td>\n",
              "    </tr>\n",
              "    <tr>\n",
              "      <th>4</th>\n",
              "      <td>4</td>\n",
              "      <td>2</td>\n",
              "      <td>164</td>\n",
              "      <td>gas</td>\n",
              "      <td>std</td>\n",
              "      <td>four</td>\n",
              "      <td>sedan</td>\n",
              "      <td>4wd</td>\n",
              "      <td>front</td>\n",
              "      <td>99.4</td>\n",
              "      <td>audi</td>\n",
              "      <td>176.6</td>\n",
              "      <td>66.4</td>\n",
              "      <td>54.3</td>\n",
              "      <td>2824</td>\n",
              "      <td>ohc</td>\n",
              "      <td>five</td>\n",
              "      <td>136</td>\n",
              "      <td>mpfi</td>\n",
              "      <td>3.19</td>\n",
              "      <td>3.4</td>\n",
              "      <td>8.0</td>\n",
              "      <td>115</td>\n",
              "      <td>5500</td>\n",
              "      <td>18</td>\n",
              "      <td>22</td>\n",
              "      <td>17450</td>\n",
              "    </tr>\n",
              "  </tbody>\n",
              "</table>\n",
              "</div>"
            ],
            "text/plain": [
              "   Unnamed: 0  symboling normalized_losses  ... city_mpg highway_mpg  price\n",
              "0           0          3                 ?  ...       21          27  13495\n",
              "1           1          3                 ?  ...       21          27  16500\n",
              "2           2          1                 ?  ...       19          26  16500\n",
              "3           3          2               164  ...       24          30  13950\n",
              "4           4          2               164  ...       18          22  17450\n",
              "\n",
              "[5 rows x 27 columns]"
            ]
          },
          "metadata": {
            "tags": []
          },
          "execution_count": 6
        }
      ]
    },
    {
      "cell_type": "code",
      "metadata": {
        "id": "X2Es89fpbOGW",
        "colab_type": "code",
        "colab": {
          "base_uri": "https://localhost:8080/",
          "height": 232
        },
        "outputId": "dbc30815-2d88-429b-ee84-d3a672f9bae0"
      },
      "source": [
        "original_data.tail()"
      ],
      "execution_count": null,
      "outputs": [
        {
          "output_type": "execute_result",
          "data": {
            "text/html": [
              "<div>\n",
              "<style scoped>\n",
              "    .dataframe tbody tr th:only-of-type {\n",
              "        vertical-align: middle;\n",
              "    }\n",
              "\n",
              "    .dataframe tbody tr th {\n",
              "        vertical-align: top;\n",
              "    }\n",
              "\n",
              "    .dataframe thead th {\n",
              "        text-align: right;\n",
              "    }\n",
              "</style>\n",
              "<table border=\"1\" class=\"dataframe\">\n",
              "  <thead>\n",
              "    <tr style=\"text-align: right;\">\n",
              "      <th></th>\n",
              "      <th>Unnamed: 0</th>\n",
              "      <th>symboling</th>\n",
              "      <th>normalized_losses</th>\n",
              "      <th>Fuel_Type</th>\n",
              "      <th>Aspiration</th>\n",
              "      <th>No_of_Doors</th>\n",
              "      <th>Body_Style</th>\n",
              "      <th>Drive_Wheels</th>\n",
              "      <th>Engine_Location</th>\n",
              "      <th>Wheel_Base</th>\n",
              "      <th>Manufacturer</th>\n",
              "      <th>length</th>\n",
              "      <th>width</th>\n",
              "      <th>height</th>\n",
              "      <th>curb_weight</th>\n",
              "      <th>engine_type</th>\n",
              "      <th>num_of_cylinders</th>\n",
              "      <th>engine_size</th>\n",
              "      <th>fuel_system</th>\n",
              "      <th>bore</th>\n",
              "      <th>stroke</th>\n",
              "      <th>compression_ratio</th>\n",
              "      <th>horsepower</th>\n",
              "      <th>peak_rpm</th>\n",
              "      <th>city_mpg</th>\n",
              "      <th>highway_mpg</th>\n",
              "      <th>price</th>\n",
              "    </tr>\n",
              "  </thead>\n",
              "  <tbody>\n",
              "    <tr>\n",
              "      <th>200</th>\n",
              "      <td>200</td>\n",
              "      <td>-1</td>\n",
              "      <td>95</td>\n",
              "      <td>gas</td>\n",
              "      <td>std</td>\n",
              "      <td>four</td>\n",
              "      <td>sedan</td>\n",
              "      <td>rwd</td>\n",
              "      <td>front</td>\n",
              "      <td>109.1</td>\n",
              "      <td>volvo</td>\n",
              "      <td>188.8</td>\n",
              "      <td>68.9</td>\n",
              "      <td>55.5</td>\n",
              "      <td>2952</td>\n",
              "      <td>ohc</td>\n",
              "      <td>four</td>\n",
              "      <td>141</td>\n",
              "      <td>mpfi</td>\n",
              "      <td>3.78</td>\n",
              "      <td>3.15</td>\n",
              "      <td>9.5</td>\n",
              "      <td>114</td>\n",
              "      <td>5400</td>\n",
              "      <td>23</td>\n",
              "      <td>28</td>\n",
              "      <td>16845</td>\n",
              "    </tr>\n",
              "    <tr>\n",
              "      <th>201</th>\n",
              "      <td>201</td>\n",
              "      <td>-1</td>\n",
              "      <td>95</td>\n",
              "      <td>gas</td>\n",
              "      <td>turbo</td>\n",
              "      <td>four</td>\n",
              "      <td>sedan</td>\n",
              "      <td>rwd</td>\n",
              "      <td>front</td>\n",
              "      <td>109.1</td>\n",
              "      <td>volvo</td>\n",
              "      <td>188.8</td>\n",
              "      <td>68.8</td>\n",
              "      <td>55.5</td>\n",
              "      <td>3049</td>\n",
              "      <td>ohc</td>\n",
              "      <td>four</td>\n",
              "      <td>141</td>\n",
              "      <td>mpfi</td>\n",
              "      <td>3.78</td>\n",
              "      <td>3.15</td>\n",
              "      <td>8.7</td>\n",
              "      <td>160</td>\n",
              "      <td>5300</td>\n",
              "      <td>19</td>\n",
              "      <td>25</td>\n",
              "      <td>19045</td>\n",
              "    </tr>\n",
              "    <tr>\n",
              "      <th>202</th>\n",
              "      <td>202</td>\n",
              "      <td>-1</td>\n",
              "      <td>95</td>\n",
              "      <td>gas</td>\n",
              "      <td>std</td>\n",
              "      <td>four</td>\n",
              "      <td>sedan</td>\n",
              "      <td>rwd</td>\n",
              "      <td>front</td>\n",
              "      <td>109.1</td>\n",
              "      <td>volvo</td>\n",
              "      <td>188.8</td>\n",
              "      <td>68.9</td>\n",
              "      <td>55.5</td>\n",
              "      <td>3012</td>\n",
              "      <td>ohcv</td>\n",
              "      <td>six</td>\n",
              "      <td>173</td>\n",
              "      <td>mpfi</td>\n",
              "      <td>3.58</td>\n",
              "      <td>2.87</td>\n",
              "      <td>8.8</td>\n",
              "      <td>134</td>\n",
              "      <td>5500</td>\n",
              "      <td>18</td>\n",
              "      <td>23</td>\n",
              "      <td>21485</td>\n",
              "    </tr>\n",
              "    <tr>\n",
              "      <th>203</th>\n",
              "      <td>203</td>\n",
              "      <td>-1</td>\n",
              "      <td>95</td>\n",
              "      <td>diesel</td>\n",
              "      <td>turbo</td>\n",
              "      <td>four</td>\n",
              "      <td>sedan</td>\n",
              "      <td>rwd</td>\n",
              "      <td>front</td>\n",
              "      <td>109.1</td>\n",
              "      <td>volvo</td>\n",
              "      <td>188.8</td>\n",
              "      <td>68.9</td>\n",
              "      <td>55.5</td>\n",
              "      <td>3217</td>\n",
              "      <td>ohc</td>\n",
              "      <td>six</td>\n",
              "      <td>145</td>\n",
              "      <td>idi</td>\n",
              "      <td>3.01</td>\n",
              "      <td>3.4</td>\n",
              "      <td>23.0</td>\n",
              "      <td>106</td>\n",
              "      <td>4800</td>\n",
              "      <td>26</td>\n",
              "      <td>27</td>\n",
              "      <td>22470</td>\n",
              "    </tr>\n",
              "    <tr>\n",
              "      <th>204</th>\n",
              "      <td>204</td>\n",
              "      <td>-1</td>\n",
              "      <td>95</td>\n",
              "      <td>gas</td>\n",
              "      <td>turbo</td>\n",
              "      <td>four</td>\n",
              "      <td>sedan</td>\n",
              "      <td>rwd</td>\n",
              "      <td>front</td>\n",
              "      <td>109.1</td>\n",
              "      <td>volvo</td>\n",
              "      <td>188.8</td>\n",
              "      <td>68.9</td>\n",
              "      <td>55.5</td>\n",
              "      <td>3062</td>\n",
              "      <td>ohc</td>\n",
              "      <td>four</td>\n",
              "      <td>141</td>\n",
              "      <td>mpfi</td>\n",
              "      <td>3.78</td>\n",
              "      <td>3.15</td>\n",
              "      <td>9.5</td>\n",
              "      <td>114</td>\n",
              "      <td>5400</td>\n",
              "      <td>19</td>\n",
              "      <td>25</td>\n",
              "      <td>22625</td>\n",
              "    </tr>\n",
              "  </tbody>\n",
              "</table>\n",
              "</div>"
            ],
            "text/plain": [
              "     Unnamed: 0  symboling normalized_losses  ... city_mpg highway_mpg  price\n",
              "200         200         -1                95  ...       23          28  16845\n",
              "201         201         -1                95  ...       19          25  19045\n",
              "202         202         -1                95  ...       18          23  21485\n",
              "203         203         -1                95  ...       26          27  22470\n",
              "204         204         -1                95  ...       19          25  22625\n",
              "\n",
              "[5 rows x 27 columns]"
            ]
          },
          "metadata": {
            "tags": []
          },
          "execution_count": 7
        }
      ]
    },
    {
      "cell_type": "markdown",
      "metadata": {
        "id": "GCTWV-uGbOGY",
        "colab_type": "text"
      },
      "source": [
        "## Data Cleaning\n",
        "* The first column 'Unnamed:0' is of no use\n",
        "* Many columns have '?', which needs to be replaced by NaN\n",
        "* The price column is of object datatype, which is to be converted to float\n",
        "* THe normalized_losses column is also object which is numeric, so it has converted to float"
      ]
    },
    {
      "cell_type": "code",
      "metadata": {
        "id": "BX8xTfU5bOGZ",
        "colab_type": "code",
        "colab": {}
      },
      "source": [
        "#Dropping unwanted column\n",
        "original_data.drop(['Unnamed: 0'], axis=1, inplace = True)\n",
        "\n",
        "#Replacing ? with NaN values\n",
        "original_data.replace('?', np.NaN, inplace=True)\n",
        "\n",
        "#converting datatype from object to float\n",
        "original_data.normalized_losses = original_data.normalized_losses.astype('float')\n",
        "original_data.price = original_data.price.astype('float')"
      ],
      "execution_count": null,
      "outputs": []
    },
    {
      "cell_type": "code",
      "metadata": {
        "id": "_A81F26ObOGb",
        "colab_type": "code",
        "colab": {
          "base_uri": "https://localhost:8080/",
          "height": 470
        },
        "outputId": "36d71d41-48a2-44a6-aecb-783c15c85f00"
      },
      "source": [
        "original_data.isnull().sum()"
      ],
      "execution_count": null,
      "outputs": [
        {
          "output_type": "execute_result",
          "data": {
            "text/plain": [
              "symboling             0\n",
              "normalized_losses    41\n",
              "Fuel_Type             0\n",
              "Aspiration            0\n",
              "No_of_Doors           2\n",
              "Body_Style            0\n",
              "Drive_Wheels          0\n",
              "Engine_Location       0\n",
              "Wheel_Base            0\n",
              "Manufacturer          0\n",
              "length                0\n",
              "width                 0\n",
              "height                0\n",
              "curb_weight           0\n",
              "engine_type           0\n",
              "num_of_cylinders      0\n",
              "engine_size           0\n",
              "fuel_system           0\n",
              "bore                  4\n",
              "stroke                4\n",
              "compression_ratio     0\n",
              "horsepower            2\n",
              "peak_rpm              2\n",
              "city_mpg              0\n",
              "highway_mpg           0\n",
              "price                 4\n",
              "dtype: int64"
            ]
          },
          "metadata": {
            "tags": []
          },
          "execution_count": 9
        }
      ]
    },
    {
      "cell_type": "markdown",
      "metadata": {
        "id": "VVkQp-ugbOGe",
        "colab_type": "text"
      },
      "source": [
        "##### Filtering only those columns which has nulls values  "
      ]
    },
    {
      "cell_type": "code",
      "metadata": {
        "id": "8FAjFdz7bOGe",
        "colab_type": "code",
        "colab": {
          "base_uri": "https://localhost:8080/",
          "height": 134
        },
        "outputId": "1a367d51-4e4c-482d-9557-408494c1318d"
      },
      "source": [
        "for column in original_data.columns:\n",
        "    if(original_data[column].isnull().sum() > 0):\n",
        "        print(\"{} : {} \".format(column , original_data[column].isnull().sum()))"
      ],
      "execution_count": null,
      "outputs": [
        {
          "output_type": "stream",
          "text": [
            "normalized_losses : 41 \n",
            "No_of_Doors : 2 \n",
            "bore : 4 \n",
            "stroke : 4 \n",
            "horsepower : 2 \n",
            "peak_rpm : 2 \n",
            "price : 4 \n"
          ],
          "name": "stdout"
        }
      ]
    },
    {
      "cell_type": "code",
      "metadata": {
        "id": "AQvmzP03bOGg",
        "colab_type": "code",
        "colab": {
          "base_uri": "https://localhost:8080/",
          "height": 67
        },
        "outputId": "03427835-a0aa-45c6-ab32-67236a392b1d"
      },
      "source": [
        "original_data.No_of_Doors.value_counts()"
      ],
      "execution_count": null,
      "outputs": [
        {
          "output_type": "execute_result",
          "data": {
            "text/plain": [
              "four    114\n",
              "two      89\n",
              "Name: No_of_Doors, dtype: int64"
            ]
          },
          "metadata": {
            "tags": []
          },
          "execution_count": 11
        }
      ]
    },
    {
      "cell_type": "code",
      "metadata": {
        "id": "tUNTAy8HbOGj",
        "colab_type": "code",
        "colab": {
          "base_uri": "https://localhost:8080/",
          "height": 420
        },
        "outputId": "307ed2d5-b98c-499e-bd74-78945d31054b"
      },
      "source": [
        "original_data.peak_rpm.value_counts()"
      ],
      "execution_count": null,
      "outputs": [
        {
          "output_type": "execute_result",
          "data": {
            "text/plain": [
              "5500    37\n",
              "4800    36\n",
              "5000    27\n",
              "5200    23\n",
              "5400    13\n",
              "6000     9\n",
              "5800     7\n",
              "5250     7\n",
              "4500     7\n",
              "4150     5\n",
              "4200     5\n",
              "4350     4\n",
              "4750     4\n",
              "4400     3\n",
              "5900     3\n",
              "5100     3\n",
              "4250     3\n",
              "6600     2\n",
              "5750     1\n",
              "5300     1\n",
              "5600     1\n",
              "4900     1\n",
              "4650     1\n",
              "Name: peak_rpm, dtype: int64"
            ]
          },
          "metadata": {
            "tags": []
          },
          "execution_count": 12
        }
      ]
    },
    {
      "cell_type": "code",
      "metadata": {
        "id": "KUYW01opbOGl",
        "colab_type": "code",
        "colab": {
          "base_uri": "https://localhost:8080/",
          "height": 1000
        },
        "outputId": "ae2ac0dc-b536-42d1-e5b1-84c88c829e79"
      },
      "source": [
        "original_data.horsepower.value_counts()"
      ],
      "execution_count": null,
      "outputs": [
        {
          "output_type": "execute_result",
          "data": {
            "text/plain": [
              "68     19\n",
              "70     11\n",
              "69     10\n",
              "116     9\n",
              "110     8\n",
              "95      7\n",
              "62      6\n",
              "88      6\n",
              "101     6\n",
              "160     6\n",
              "114     6\n",
              "145     5\n",
              "97      5\n",
              "84      5\n",
              "82      5\n",
              "102     5\n",
              "76      5\n",
              "86      4\n",
              "92      4\n",
              "111     4\n",
              "123     4\n",
              "85      3\n",
              "90      3\n",
              "152     3\n",
              "121     3\n",
              "207     3\n",
              "73      3\n",
              "182     3\n",
              "94      2\n",
              "176     2\n",
              "156     2\n",
              "155     2\n",
              "161     2\n",
              "52      2\n",
              "162     2\n",
              "112     2\n",
              "184     2\n",
              "100     2\n",
              "56      2\n",
              "140     1\n",
              "135     1\n",
              "60      1\n",
              "120     1\n",
              "48      1\n",
              "72      1\n",
              "58      1\n",
              "55      1\n",
              "115     1\n",
              "288     1\n",
              "262     1\n",
              "143     1\n",
              "154     1\n",
              "142     1\n",
              "78      1\n",
              "175     1\n",
              "134     1\n",
              "106     1\n",
              "64      1\n",
              "200     1\n",
              "Name: horsepower, dtype: int64"
            ]
          },
          "metadata": {
            "tags": []
          },
          "execution_count": 13
        }
      ]
    },
    {
      "cell_type": "code",
      "metadata": {
        "id": "NCuBmN0IbOGn",
        "colab_type": "code",
        "colab": {
          "base_uri": "https://localhost:8080/",
          "height": 638
        },
        "outputId": "c69e2e5a-2b28-49db-8374-b2522e2db510"
      },
      "source": [
        "original_data.stroke.value_counts()"
      ],
      "execution_count": null,
      "outputs": [
        {
          "output_type": "execute_result",
          "data": {
            "text/plain": [
              "3.4     20\n",
              "3.23    14\n",
              "3.15    14\n",
              "3.03    14\n",
              "3.39    13\n",
              "2.64    11\n",
              "3.29     9\n",
              "3.35     9\n",
              "3.46     8\n",
              "3.41     6\n",
              "3.07     6\n",
              "3.58     6\n",
              "3.27     6\n",
              "3.19     6\n",
              "3.11     6\n",
              "3.5      6\n",
              "3.52     5\n",
              "3.64     5\n",
              "3.54     4\n",
              "3.47     4\n",
              "3.86     4\n",
              "2.9      3\n",
              "3.9      3\n",
              "2.19     2\n",
              "3.08     2\n",
              "4.17     2\n",
              "3.1      2\n",
              "2.68     2\n",
              "2.8      2\n",
              "2.76     1\n",
              "3.12     1\n",
              "3.16     1\n",
              "2.87     1\n",
              "2.07     1\n",
              "2.36     1\n",
              "3.21     1\n",
              "Name: stroke, dtype: int64"
            ]
          },
          "metadata": {
            "tags": []
          },
          "execution_count": 14
        }
      ]
    },
    {
      "cell_type": "code",
      "metadata": {
        "id": "zMm58LG2bOGr",
        "colab_type": "code",
        "colab": {
          "base_uri": "https://localhost:8080/",
          "height": 672
        },
        "outputId": "dbb0a11f-8c3d-4493-b712-c4727e3b9ea8"
      },
      "source": [
        "original_data.bore.value_counts()"
      ],
      "execution_count": null,
      "outputs": [
        {
          "output_type": "execute_result",
          "data": {
            "text/plain": [
              "3.62    23\n",
              "3.19    20\n",
              "3.15    15\n",
              "2.97    12\n",
              "3.03    12\n",
              "3.46     9\n",
              "3.31     8\n",
              "3.78     8\n",
              "3.43     8\n",
              "3.27     7\n",
              "2.91     7\n",
              "3.39     6\n",
              "3.58     6\n",
              "3.05     6\n",
              "3.54     6\n",
              "3.01     5\n",
              "3.7      5\n",
              "3.35     4\n",
              "3.74     3\n",
              "3.59     3\n",
              "3.17     3\n",
              "3.8      2\n",
              "3.33     2\n",
              "3.47     2\n",
              "3.63     2\n",
              "3.94     2\n",
              "3.24     2\n",
              "3.5      2\n",
              "3.13     2\n",
              "3.6      1\n",
              "3.08     1\n",
              "3.76     1\n",
              "2.54     1\n",
              "2.92     1\n",
              "3.34     1\n",
              "2.99     1\n",
              "2.68     1\n",
              "3.61     1\n",
              "Name: bore, dtype: int64"
            ]
          },
          "metadata": {
            "tags": []
          },
          "execution_count": 15
        }
      ]
    },
    {
      "cell_type": "markdown",
      "metadata": {
        "id": "ZfYeI0z6bOGt",
        "colab_type": "text"
      },
      "source": [
        "## Dealing with Null values\n",
        "* As the price column is the predictive column, we will not replace the null values with mean. Also, they are less in number so we will just remove the rows which has null values\n",
        "* For numeric column we will use respective mean value to replace null\n",
        "* For all other object type columns, we will replace the null values with values that appear previous to the row. "
      ]
    },
    {
      "cell_type": "code",
      "metadata": {
        "id": "8pSBT3JMbOGu",
        "colab_type": "code",
        "colab": {}
      },
      "source": [
        "original_data.drop(original_data[original_data['price'].isnull()].index, inplace = True)\n",
        "\n",
        "original_data.normalized_losses = original_data.normalized_losses.fillna(original_data.normalized_losses.mean())\n",
        "\n",
        "original_data.No_of_Doors = original_data.No_of_Doors.fillna('four')\n",
        "\n",
        "original_data.peak_rpm = original_data.peak_rpm.fillna(method='pad')\n",
        "original_data.horsepower = original_data.horsepower.fillna(method='pad')\n",
        "original_data.stroke = original_data.stroke.fillna(method='pad')\n",
        "original_data.bore = original_data.bore.fillna(method='pad')"
      ],
      "execution_count": null,
      "outputs": []
    },
    {
      "cell_type": "code",
      "metadata": {
        "id": "gE5q-AphbOGx",
        "colab_type": "code",
        "colab": {}
      },
      "source": [
        "columns = original_data.columns\n",
        "\n",
        "for col in columns:\n",
        "    if(original_data[col].isnull().sum() > 0):\n",
        "        print(col,\" :: \\t\\t\",original_data[col].isnull().sum())"
      ],
      "execution_count": null,
      "outputs": []
    },
    {
      "cell_type": "code",
      "metadata": {
        "id": "ezd-zSXSbOGz",
        "colab_type": "code",
        "colab": {
          "base_uri": "https://localhost:8080/",
          "height": 215
        },
        "outputId": "0a03a2d3-57f4-418c-bccb-f5fa88ad85b2"
      },
      "source": [
        "original_data.head()"
      ],
      "execution_count": null,
      "outputs": [
        {
          "output_type": "execute_result",
          "data": {
            "text/html": [
              "<div>\n",
              "<style scoped>\n",
              "    .dataframe tbody tr th:only-of-type {\n",
              "        vertical-align: middle;\n",
              "    }\n",
              "\n",
              "    .dataframe tbody tr th {\n",
              "        vertical-align: top;\n",
              "    }\n",
              "\n",
              "    .dataframe thead th {\n",
              "        text-align: right;\n",
              "    }\n",
              "</style>\n",
              "<table border=\"1\" class=\"dataframe\">\n",
              "  <thead>\n",
              "    <tr style=\"text-align: right;\">\n",
              "      <th></th>\n",
              "      <th>symboling</th>\n",
              "      <th>normalized_losses</th>\n",
              "      <th>Fuel_Type</th>\n",
              "      <th>Aspiration</th>\n",
              "      <th>No_of_Doors</th>\n",
              "      <th>Body_Style</th>\n",
              "      <th>Drive_Wheels</th>\n",
              "      <th>Engine_Location</th>\n",
              "      <th>Wheel_Base</th>\n",
              "      <th>Manufacturer</th>\n",
              "      <th>length</th>\n",
              "      <th>width</th>\n",
              "      <th>height</th>\n",
              "      <th>curb_weight</th>\n",
              "      <th>engine_type</th>\n",
              "      <th>num_of_cylinders</th>\n",
              "      <th>engine_size</th>\n",
              "      <th>fuel_system</th>\n",
              "      <th>bore</th>\n",
              "      <th>stroke</th>\n",
              "      <th>compression_ratio</th>\n",
              "      <th>horsepower</th>\n",
              "      <th>peak_rpm</th>\n",
              "      <th>city_mpg</th>\n",
              "      <th>highway_mpg</th>\n",
              "      <th>price</th>\n",
              "    </tr>\n",
              "  </thead>\n",
              "  <tbody>\n",
              "    <tr>\n",
              "      <th>0</th>\n",
              "      <td>3</td>\n",
              "      <td>122.0</td>\n",
              "      <td>gas</td>\n",
              "      <td>std</td>\n",
              "      <td>two</td>\n",
              "      <td>convertible</td>\n",
              "      <td>rwd</td>\n",
              "      <td>front</td>\n",
              "      <td>88.6</td>\n",
              "      <td>alfa-romero</td>\n",
              "      <td>168.8</td>\n",
              "      <td>64.1</td>\n",
              "      <td>48.8</td>\n",
              "      <td>2548</td>\n",
              "      <td>dohc</td>\n",
              "      <td>four</td>\n",
              "      <td>130</td>\n",
              "      <td>mpfi</td>\n",
              "      <td>3.47</td>\n",
              "      <td>2.68</td>\n",
              "      <td>9.0</td>\n",
              "      <td>111</td>\n",
              "      <td>5000</td>\n",
              "      <td>21</td>\n",
              "      <td>27</td>\n",
              "      <td>13495.0</td>\n",
              "    </tr>\n",
              "    <tr>\n",
              "      <th>1</th>\n",
              "      <td>3</td>\n",
              "      <td>122.0</td>\n",
              "      <td>gas</td>\n",
              "      <td>std</td>\n",
              "      <td>two</td>\n",
              "      <td>convertible</td>\n",
              "      <td>rwd</td>\n",
              "      <td>front</td>\n",
              "      <td>88.6</td>\n",
              "      <td>alfa-romero</td>\n",
              "      <td>168.8</td>\n",
              "      <td>64.1</td>\n",
              "      <td>48.8</td>\n",
              "      <td>2548</td>\n",
              "      <td>dohc</td>\n",
              "      <td>four</td>\n",
              "      <td>130</td>\n",
              "      <td>mpfi</td>\n",
              "      <td>3.47</td>\n",
              "      <td>2.68</td>\n",
              "      <td>9.0</td>\n",
              "      <td>111</td>\n",
              "      <td>5000</td>\n",
              "      <td>21</td>\n",
              "      <td>27</td>\n",
              "      <td>16500.0</td>\n",
              "    </tr>\n",
              "    <tr>\n",
              "      <th>2</th>\n",
              "      <td>1</td>\n",
              "      <td>122.0</td>\n",
              "      <td>gas</td>\n",
              "      <td>std</td>\n",
              "      <td>two</td>\n",
              "      <td>hatchback</td>\n",
              "      <td>rwd</td>\n",
              "      <td>front</td>\n",
              "      <td>94.5</td>\n",
              "      <td>alfa-romero</td>\n",
              "      <td>171.2</td>\n",
              "      <td>65.5</td>\n",
              "      <td>52.4</td>\n",
              "      <td>2823</td>\n",
              "      <td>ohcv</td>\n",
              "      <td>six</td>\n",
              "      <td>152</td>\n",
              "      <td>mpfi</td>\n",
              "      <td>2.68</td>\n",
              "      <td>3.47</td>\n",
              "      <td>9.0</td>\n",
              "      <td>154</td>\n",
              "      <td>5000</td>\n",
              "      <td>19</td>\n",
              "      <td>26</td>\n",
              "      <td>16500.0</td>\n",
              "    </tr>\n",
              "    <tr>\n",
              "      <th>3</th>\n",
              "      <td>2</td>\n",
              "      <td>164.0</td>\n",
              "      <td>gas</td>\n",
              "      <td>std</td>\n",
              "      <td>four</td>\n",
              "      <td>sedan</td>\n",
              "      <td>fwd</td>\n",
              "      <td>front</td>\n",
              "      <td>99.8</td>\n",
              "      <td>audi</td>\n",
              "      <td>176.6</td>\n",
              "      <td>66.2</td>\n",
              "      <td>54.3</td>\n",
              "      <td>2337</td>\n",
              "      <td>ohc</td>\n",
              "      <td>four</td>\n",
              "      <td>109</td>\n",
              "      <td>mpfi</td>\n",
              "      <td>3.19</td>\n",
              "      <td>3.4</td>\n",
              "      <td>10.0</td>\n",
              "      <td>102</td>\n",
              "      <td>5500</td>\n",
              "      <td>24</td>\n",
              "      <td>30</td>\n",
              "      <td>13950.0</td>\n",
              "    </tr>\n",
              "    <tr>\n",
              "      <th>4</th>\n",
              "      <td>2</td>\n",
              "      <td>164.0</td>\n",
              "      <td>gas</td>\n",
              "      <td>std</td>\n",
              "      <td>four</td>\n",
              "      <td>sedan</td>\n",
              "      <td>4wd</td>\n",
              "      <td>front</td>\n",
              "      <td>99.4</td>\n",
              "      <td>audi</td>\n",
              "      <td>176.6</td>\n",
              "      <td>66.4</td>\n",
              "      <td>54.3</td>\n",
              "      <td>2824</td>\n",
              "      <td>ohc</td>\n",
              "      <td>five</td>\n",
              "      <td>136</td>\n",
              "      <td>mpfi</td>\n",
              "      <td>3.19</td>\n",
              "      <td>3.4</td>\n",
              "      <td>8.0</td>\n",
              "      <td>115</td>\n",
              "      <td>5500</td>\n",
              "      <td>18</td>\n",
              "      <td>22</td>\n",
              "      <td>17450.0</td>\n",
              "    </tr>\n",
              "  </tbody>\n",
              "</table>\n",
              "</div>"
            ],
            "text/plain": [
              "   symboling  normalized_losses Fuel_Type  ... city_mpg highway_mpg    price\n",
              "0          3              122.0       gas  ...       21          27  13495.0\n",
              "1          3              122.0       gas  ...       21          27  16500.0\n",
              "2          1              122.0       gas  ...       19          26  16500.0\n",
              "3          2              164.0       gas  ...       24          30  13950.0\n",
              "4          2              164.0       gas  ...       18          22  17450.0\n",
              "\n",
              "[5 rows x 26 columns]"
            ]
          },
          "metadata": {
            "tags": []
          },
          "execution_count": 18
        }
      ]
    },
    {
      "cell_type": "code",
      "metadata": {
        "id": "fN9ndwRPbOG2",
        "colab_type": "code",
        "colab": {
          "base_uri": "https://localhost:8080/",
          "height": 215
        },
        "outputId": "51b7673d-40e6-456d-e377-7248fde7de63"
      },
      "source": [
        "original_data.tail()"
      ],
      "execution_count": null,
      "outputs": [
        {
          "output_type": "execute_result",
          "data": {
            "text/html": [
              "<div>\n",
              "<style scoped>\n",
              "    .dataframe tbody tr th:only-of-type {\n",
              "        vertical-align: middle;\n",
              "    }\n",
              "\n",
              "    .dataframe tbody tr th {\n",
              "        vertical-align: top;\n",
              "    }\n",
              "\n",
              "    .dataframe thead th {\n",
              "        text-align: right;\n",
              "    }\n",
              "</style>\n",
              "<table border=\"1\" class=\"dataframe\">\n",
              "  <thead>\n",
              "    <tr style=\"text-align: right;\">\n",
              "      <th></th>\n",
              "      <th>symboling</th>\n",
              "      <th>normalized_losses</th>\n",
              "      <th>Fuel_Type</th>\n",
              "      <th>Aspiration</th>\n",
              "      <th>No_of_Doors</th>\n",
              "      <th>Body_Style</th>\n",
              "      <th>Drive_Wheels</th>\n",
              "      <th>Engine_Location</th>\n",
              "      <th>Wheel_Base</th>\n",
              "      <th>Manufacturer</th>\n",
              "      <th>length</th>\n",
              "      <th>width</th>\n",
              "      <th>height</th>\n",
              "      <th>curb_weight</th>\n",
              "      <th>engine_type</th>\n",
              "      <th>num_of_cylinders</th>\n",
              "      <th>engine_size</th>\n",
              "      <th>fuel_system</th>\n",
              "      <th>bore</th>\n",
              "      <th>stroke</th>\n",
              "      <th>compression_ratio</th>\n",
              "      <th>horsepower</th>\n",
              "      <th>peak_rpm</th>\n",
              "      <th>city_mpg</th>\n",
              "      <th>highway_mpg</th>\n",
              "      <th>price</th>\n",
              "    </tr>\n",
              "  </thead>\n",
              "  <tbody>\n",
              "    <tr>\n",
              "      <th>200</th>\n",
              "      <td>-1</td>\n",
              "      <td>95.0</td>\n",
              "      <td>gas</td>\n",
              "      <td>std</td>\n",
              "      <td>four</td>\n",
              "      <td>sedan</td>\n",
              "      <td>rwd</td>\n",
              "      <td>front</td>\n",
              "      <td>109.1</td>\n",
              "      <td>volvo</td>\n",
              "      <td>188.8</td>\n",
              "      <td>68.9</td>\n",
              "      <td>55.5</td>\n",
              "      <td>2952</td>\n",
              "      <td>ohc</td>\n",
              "      <td>four</td>\n",
              "      <td>141</td>\n",
              "      <td>mpfi</td>\n",
              "      <td>3.78</td>\n",
              "      <td>3.15</td>\n",
              "      <td>9.5</td>\n",
              "      <td>114</td>\n",
              "      <td>5400</td>\n",
              "      <td>23</td>\n",
              "      <td>28</td>\n",
              "      <td>16845.0</td>\n",
              "    </tr>\n",
              "    <tr>\n",
              "      <th>201</th>\n",
              "      <td>-1</td>\n",
              "      <td>95.0</td>\n",
              "      <td>gas</td>\n",
              "      <td>turbo</td>\n",
              "      <td>four</td>\n",
              "      <td>sedan</td>\n",
              "      <td>rwd</td>\n",
              "      <td>front</td>\n",
              "      <td>109.1</td>\n",
              "      <td>volvo</td>\n",
              "      <td>188.8</td>\n",
              "      <td>68.8</td>\n",
              "      <td>55.5</td>\n",
              "      <td>3049</td>\n",
              "      <td>ohc</td>\n",
              "      <td>four</td>\n",
              "      <td>141</td>\n",
              "      <td>mpfi</td>\n",
              "      <td>3.78</td>\n",
              "      <td>3.15</td>\n",
              "      <td>8.7</td>\n",
              "      <td>160</td>\n",
              "      <td>5300</td>\n",
              "      <td>19</td>\n",
              "      <td>25</td>\n",
              "      <td>19045.0</td>\n",
              "    </tr>\n",
              "    <tr>\n",
              "      <th>202</th>\n",
              "      <td>-1</td>\n",
              "      <td>95.0</td>\n",
              "      <td>gas</td>\n",
              "      <td>std</td>\n",
              "      <td>four</td>\n",
              "      <td>sedan</td>\n",
              "      <td>rwd</td>\n",
              "      <td>front</td>\n",
              "      <td>109.1</td>\n",
              "      <td>volvo</td>\n",
              "      <td>188.8</td>\n",
              "      <td>68.9</td>\n",
              "      <td>55.5</td>\n",
              "      <td>3012</td>\n",
              "      <td>ohcv</td>\n",
              "      <td>six</td>\n",
              "      <td>173</td>\n",
              "      <td>mpfi</td>\n",
              "      <td>3.58</td>\n",
              "      <td>2.87</td>\n",
              "      <td>8.8</td>\n",
              "      <td>134</td>\n",
              "      <td>5500</td>\n",
              "      <td>18</td>\n",
              "      <td>23</td>\n",
              "      <td>21485.0</td>\n",
              "    </tr>\n",
              "    <tr>\n",
              "      <th>203</th>\n",
              "      <td>-1</td>\n",
              "      <td>95.0</td>\n",
              "      <td>diesel</td>\n",
              "      <td>turbo</td>\n",
              "      <td>four</td>\n",
              "      <td>sedan</td>\n",
              "      <td>rwd</td>\n",
              "      <td>front</td>\n",
              "      <td>109.1</td>\n",
              "      <td>volvo</td>\n",
              "      <td>188.8</td>\n",
              "      <td>68.9</td>\n",
              "      <td>55.5</td>\n",
              "      <td>3217</td>\n",
              "      <td>ohc</td>\n",
              "      <td>six</td>\n",
              "      <td>145</td>\n",
              "      <td>idi</td>\n",
              "      <td>3.01</td>\n",
              "      <td>3.4</td>\n",
              "      <td>23.0</td>\n",
              "      <td>106</td>\n",
              "      <td>4800</td>\n",
              "      <td>26</td>\n",
              "      <td>27</td>\n",
              "      <td>22470.0</td>\n",
              "    </tr>\n",
              "    <tr>\n",
              "      <th>204</th>\n",
              "      <td>-1</td>\n",
              "      <td>95.0</td>\n",
              "      <td>gas</td>\n",
              "      <td>turbo</td>\n",
              "      <td>four</td>\n",
              "      <td>sedan</td>\n",
              "      <td>rwd</td>\n",
              "      <td>front</td>\n",
              "      <td>109.1</td>\n",
              "      <td>volvo</td>\n",
              "      <td>188.8</td>\n",
              "      <td>68.9</td>\n",
              "      <td>55.5</td>\n",
              "      <td>3062</td>\n",
              "      <td>ohc</td>\n",
              "      <td>four</td>\n",
              "      <td>141</td>\n",
              "      <td>mpfi</td>\n",
              "      <td>3.78</td>\n",
              "      <td>3.15</td>\n",
              "      <td>9.5</td>\n",
              "      <td>114</td>\n",
              "      <td>5400</td>\n",
              "      <td>19</td>\n",
              "      <td>25</td>\n",
              "      <td>22625.0</td>\n",
              "    </tr>\n",
              "  </tbody>\n",
              "</table>\n",
              "</div>"
            ],
            "text/plain": [
              "     symboling  normalized_losses Fuel_Type  ... city_mpg highway_mpg    price\n",
              "200         -1               95.0       gas  ...       23          28  16845.0\n",
              "201         -1               95.0       gas  ...       19          25  19045.0\n",
              "202         -1               95.0       gas  ...       18          23  21485.0\n",
              "203         -1               95.0    diesel  ...       26          27  22470.0\n",
              "204         -1               95.0       gas  ...       19          25  22625.0\n",
              "\n",
              "[5 rows x 26 columns]"
            ]
          },
          "metadata": {
            "tags": []
          },
          "execution_count": 19
        }
      ]
    },
    {
      "cell_type": "code",
      "metadata": {
        "id": "6OOUKjl3bOG5",
        "colab_type": "code",
        "colab": {
          "base_uri": "https://localhost:8080/",
          "height": 34
        },
        "outputId": "7b6ae262-5fab-4d37-fae4-416e5dfce8ae"
      },
      "source": [
        "original_data.shape"
      ],
      "execution_count": null,
      "outputs": [
        {
          "output_type": "execute_result",
          "data": {
            "text/plain": [
              "(201, 26)"
            ]
          },
          "metadata": {
            "tags": []
          },
          "execution_count": 20
        }
      ]
    },
    {
      "cell_type": "markdown",
      "metadata": {
        "id": "sZKYFKeZbOG7",
        "colab_type": "text"
      },
      "source": [
        "## Basic Data Exploration\n",
        "#### Using basic value.counts() to understand the data\n",
        "#### Also plotting basic count plots for understanding the distribution of the columns"
      ]
    },
    {
      "cell_type": "code",
      "metadata": {
        "id": "cVowfG41bOG8",
        "colab_type": "code",
        "colab": {
          "base_uri": "https://localhost:8080/",
          "height": 67
        },
        "outputId": "3e10a4b4-dd19-469e-c066-e23d8bc4e2fe"
      },
      "source": [
        "original_data.Fuel_Type.value_counts()"
      ],
      "execution_count": null,
      "outputs": [
        {
          "output_type": "execute_result",
          "data": {
            "text/plain": [
              "gas       181\n",
              "diesel     20\n",
              "Name: Fuel_Type, dtype: int64"
            ]
          },
          "metadata": {
            "tags": []
          },
          "execution_count": 21
        }
      ]
    },
    {
      "cell_type": "code",
      "metadata": {
        "id": "EsFrdf-gbOG-",
        "colab_type": "code",
        "colab": {
          "base_uri": "https://localhost:8080/",
          "height": 67
        },
        "outputId": "ea81df84-30ac-4c76-8784-6a2e2aaa699d"
      },
      "source": [
        "original_data.Aspiration.value_counts()"
      ],
      "execution_count": null,
      "outputs": [
        {
          "output_type": "execute_result",
          "data": {
            "text/plain": [
              "std      165\n",
              "turbo     36\n",
              "Name: Aspiration, dtype: int64"
            ]
          },
          "metadata": {
            "tags": []
          },
          "execution_count": 22
        }
      ]
    },
    {
      "cell_type": "code",
      "metadata": {
        "id": "jrGhbfkIbOHA",
        "colab_type": "code",
        "colab": {
          "base_uri": "https://localhost:8080/",
          "height": 67
        },
        "outputId": "2c5ff901-28d5-48e5-e968-83499424a6f2"
      },
      "source": [
        "original_data.No_of_Doors.value_counts()"
      ],
      "execution_count": null,
      "outputs": [
        {
          "output_type": "execute_result",
          "data": {
            "text/plain": [
              "four    115\n",
              "two      86\n",
              "Name: No_of_Doors, dtype: int64"
            ]
          },
          "metadata": {
            "tags": []
          },
          "execution_count": 23
        }
      ]
    },
    {
      "cell_type": "code",
      "metadata": {
        "id": "2RQtlyVKbOHC",
        "colab_type": "code",
        "colab": {
          "base_uri": "https://localhost:8080/",
          "height": 67
        },
        "outputId": "c831731d-c189-460c-e31c-43d7fa3475a7"
      },
      "source": [
        "original_data.Engine_Location.value_counts()"
      ],
      "execution_count": null,
      "outputs": [
        {
          "output_type": "execute_result",
          "data": {
            "text/plain": [
              "front    198\n",
              "rear       3\n",
              "Name: Engine_Location, dtype: int64"
            ]
          },
          "metadata": {
            "tags": []
          },
          "execution_count": 24
        }
      ]
    },
    {
      "cell_type": "code",
      "metadata": {
        "id": "VCk2_ZTzbOHF",
        "colab_type": "code",
        "colab": {
          "base_uri": "https://localhost:8080/",
          "height": 118
        },
        "outputId": "0aa53ac0-ba06-45c8-dd36-6d725ddc5fbe"
      },
      "source": [
        "original_data.Body_Style.value_counts()"
      ],
      "execution_count": null,
      "outputs": [
        {
          "output_type": "execute_result",
          "data": {
            "text/plain": [
              "sedan          94\n",
              "hatchback      68\n",
              "wagon          25\n",
              "hardtop         8\n",
              "convertible     6\n",
              "Name: Body_Style, dtype: int64"
            ]
          },
          "metadata": {
            "tags": []
          },
          "execution_count": 25
        }
      ]
    },
    {
      "cell_type": "code",
      "metadata": {
        "id": "rjVka-g2bOHH",
        "colab_type": "code",
        "colab": {
          "base_uri": "https://localhost:8080/",
          "height": 394
        },
        "outputId": "22471e58-36df-4d68-aa85-bad29105793f"
      },
      "source": [
        "sns.set(style='whitegrid', palette=\"deep\", rc={\"figure.figsize\": [8, 6]})\n",
        "sns.countplot(original_data['Body_Style']);"
      ],
      "execution_count": null,
      "outputs": [
        {
          "output_type": "display_data",
          "data": {
            "image/png": "[encoded data removed]",
            "text/plain": [
              "<Figure size 576x432 with 1 Axes>"
            ]
          },
          "metadata": {
            "tags": []
          }
        }
      ]
    },
    {
      "cell_type": "code",
      "metadata": {
        "id": "oIPcj_RtbOHK",
        "colab_type": "code",
        "colab": {
          "base_uri": "https://localhost:8080/",
          "height": 84
        },
        "outputId": "552c8e71-fbb6-477f-b045-eb29939bac32"
      },
      "source": [
        "original_data.Drive_Wheels.value_counts()"
      ],
      "execution_count": null,
      "outputs": [
        {
          "output_type": "execute_result",
          "data": {
            "text/plain": [
              "fwd    118\n",
              "rwd     75\n",
              "4wd      8\n",
              "Name: Drive_Wheels, dtype: int64"
            ]
          },
          "metadata": {
            "tags": []
          },
          "execution_count": 27
        }
      ]
    },
    {
      "cell_type": "code",
      "metadata": {
        "id": "NNIxYOTFbOHM",
        "colab_type": "code",
        "colab": {
          "base_uri": "https://localhost:8080/",
          "height": 394
        },
        "outputId": "47851f38-0a3a-4ffb-8115-1e6ebfc156e3"
      },
      "source": [
        "sns.set(style='whitegrid', palette=\"deep\", rc={\"figure.figsize\": [8, 6]})\n",
        "sns.countplot(original_data['Drive_Wheels']);"
      ],
      "execution_count": null,
      "outputs": [
        {
          "output_type": "display_data",
          "data": {
            "image/png": "[encoded data removed]",
            "text/plain": [
              "<Figure size 576x432 with 1 Axes>"
            ]
          },
          "metadata": {
            "tags": []
          }
        }
      ]
    },
    {
      "cell_type": "code",
      "metadata": {
        "id": "DNutqcBjbOHO",
        "colab_type": "code",
        "colab": {
          "base_uri": "https://localhost:8080/",
          "height": 403
        },
        "outputId": "fbeafe70-1153-47cf-a203-3ea5fd654638"
      },
      "source": [
        "original_data.Manufacturer.value_counts()"
      ],
      "execution_count": null,
      "outputs": [
        {
          "output_type": "execute_result",
          "data": {
            "text/plain": [
              "toyota           32\n",
              "nissan           18\n",
              "mazda            17\n",
              "honda            13\n",
              "mitsubishi       13\n",
              "volkswagen       12\n",
              "subaru           12\n",
              "peugot           11\n",
              "volvo            11\n",
              "dodge             9\n",
              "bmw               8\n",
              "mercedes-benz     8\n",
              "plymouth          7\n",
              "audi              6\n",
              "saab              6\n",
              "porsche           4\n",
              "chevrolet         3\n",
              "alfa-romero       3\n",
              "jaguar            3\n",
              "renault           2\n",
              "isuzu             2\n",
              "mercury           1\n",
              "Name: Manufacturer, dtype: int64"
            ]
          },
          "metadata": {
            "tags": []
          },
          "execution_count": 29
        }
      ]
    },
    {
      "cell_type": "code",
      "metadata": {
        "id": "CFKhI141bOHQ",
        "colab_type": "code",
        "colab": {
          "base_uri": "https://localhost:8080/",
          "height": 502
        },
        "outputId": "e1cc754d-dc98-472d-efd1-9b048206f70c"
      },
      "source": [
        "sns.set(style='whitegrid', palette=\"deep\", rc={\"figure.figsize\": [18, 8]})\n",
        "sns.countplot(original_data['Manufacturer']);"
      ],
      "execution_count": null,
      "outputs": [
        {
          "output_type": "display_data",
          "data": {
            "image/png": "[encoded data removed]",
            "text/plain": [
              "<Figure size 1296x576 with 1 Axes>"
            ]
          },
          "metadata": {
            "tags": []
          }
        }
      ]
    },
    {
      "cell_type": "code",
      "metadata": {
        "id": "yRd4ehkIbOHT",
        "colab_type": "code",
        "colab": {
          "base_uri": "https://localhost:8080/",
          "height": 168
        },
        "outputId": "7ff40653-1f2c-4c8e-99aa-d9a53f95818e"
      },
      "source": [
        "original_data.fuel_system.value_counts()"
      ],
      "execution_count": null,
      "outputs": [
        {
          "output_type": "execute_result",
          "data": {
            "text/plain": [
              "mpfi    92\n",
              "2bbl    64\n",
              "idi     20\n",
              "1bbl    11\n",
              "spdi     9\n",
              "4bbl     3\n",
              "spfi     1\n",
              "mfi      1\n",
              "Name: fuel_system, dtype: int64"
            ]
          },
          "metadata": {
            "tags": []
          },
          "execution_count": 31
        }
      ]
    },
    {
      "cell_type": "code",
      "metadata": {
        "id": "Xnztv8NtbOHV",
        "colab_type": "code",
        "colab": {
          "base_uri": "https://localhost:8080/",
          "height": 394
        },
        "outputId": "88d53b79-c1c1-41fc-9cb0-d66ef528a39a"
      },
      "source": [
        "sns.set(style='whitegrid', palette=\"deep\", rc={\"figure.figsize\": [10, 6]})\n",
        "sns.countplot(original_data['fuel_system']);"
      ],
      "execution_count": null,
      "outputs": [
        {
          "output_type": "display_data",
          "data": {
            "image/png": "[encoded data removed]",
            "text/plain": [
              "<Figure size 720x432 with 1 Axes>"
            ]
          },
          "metadata": {
            "tags": []
          }
        }
      ]
    },
    {
      "cell_type": "markdown",
      "metadata": {
        "id": "EbLIqz6dbOHW",
        "colab_type": "text"
      },
      "source": [
        "## Data Transformation\n",
        "#### Using the LabelEncoder, values of all the columns with object type, will be replaced with numbers"
      ]
    },
    {
      "cell_type": "code",
      "metadata": {
        "colab_type": "code",
        "id": "Fj8r1ZIeRVHW",
        "colab": {}
      },
      "source": [
        "from sklearn.preprocessing import LabelEncoder\n",
        "le = LabelEncoder()"
      ],
      "execution_count": null,
      "outputs": []
    },
    {
      "cell_type": "code",
      "metadata": {
        "id": "jHZKKJesbOHZ",
        "colab_type": "code",
        "colab": {
          "base_uri": "https://localhost:8080/",
          "height": 84
        },
        "outputId": "a610504d-1466-43a9-c9ed-6922b999e933"
      },
      "source": [
        "#List of columns  which are getting transformed\n",
        "original_data.select_dtypes(include=['object']).columns"
      ],
      "execution_count": null,
      "outputs": [
        {
          "output_type": "execute_result",
          "data": {
            "text/plain": [
              "Index(['Fuel_Type', 'Aspiration', 'No_of_Doors', 'Body_Style', 'Drive_Wheels',\n",
              "       'Engine_Location', 'Manufacturer', 'engine_type', 'num_of_cylinders',\n",
              "       'fuel_system', 'bore', 'stroke', 'horsepower', 'peak_rpm'],\n",
              "      dtype='object')"
            ]
          },
          "metadata": {
            "tags": []
          },
          "execution_count": 34
        }
      ]
    },
    {
      "cell_type": "code",
      "metadata": {
        "colab_type": "code",
        "id": "Di5iYqe3RblI",
        "colab": {}
      },
      "source": [
        "original_data[original_data.select_dtypes(include=['object']).columns] = original_data[original_data.select_dtypes(include=['object']).columns].apply(le.fit_transform)"
      ],
      "execution_count": null,
      "outputs": []
    },
    {
      "cell_type": "code",
      "metadata": {
        "colab_type": "code",
        "id": "YyqPC8JxR-DQ",
        "colab": {
          "base_uri": "https://localhost:8080/",
          "height": 215
        },
        "outputId": "4c1d72b8-6aae-4373-cdb9-886661e1ccb9"
      },
      "source": [
        "original_data.head()"
      ],
      "execution_count": null,
      "outputs": [
        {
          "output_type": "execute_result",
          "data": {
            "text/html": [
              "<div>\n",
              "<style scoped>\n",
              "    .dataframe tbody tr th:only-of-type {\n",
              "        vertical-align: middle;\n",
              "    }\n",
              "\n",
              "    .dataframe tbody tr th {\n",
              "        vertical-align: top;\n",
              "    }\n",
              "\n",
              "    .dataframe thead th {\n",
              "        text-align: right;\n",
              "    }\n",
              "</style>\n",
              "<table border=\"1\" class=\"dataframe\">\n",
              "  <thead>\n",
              "    <tr style=\"text-align: right;\">\n",
              "      <th></th>\n",
              "      <th>symboling</th>\n",
              "      <th>normalized_losses</th>\n",
              "      <th>Fuel_Type</th>\n",
              "      <th>Aspiration</th>\n",
              "      <th>No_of_Doors</th>\n",
              "      <th>Body_Style</th>\n",
              "      <th>Drive_Wheels</th>\n",
              "      <th>Engine_Location</th>\n",
              "      <th>Wheel_Base</th>\n",
              "      <th>Manufacturer</th>\n",
              "      <th>length</th>\n",
              "      <th>width</th>\n",
              "      <th>height</th>\n",
              "      <th>curb_weight</th>\n",
              "      <th>engine_type</th>\n",
              "      <th>num_of_cylinders</th>\n",
              "      <th>engine_size</th>\n",
              "      <th>fuel_system</th>\n",
              "      <th>bore</th>\n",
              "      <th>stroke</th>\n",
              "      <th>compression_ratio</th>\n",
              "      <th>horsepower</th>\n",
              "      <th>peak_rpm</th>\n",
              "      <th>city_mpg</th>\n",
              "      <th>highway_mpg</th>\n",
              "      <th>price</th>\n",
              "    </tr>\n",
              "  </thead>\n",
              "  <tbody>\n",
              "    <tr>\n",
              "      <th>0</th>\n",
              "      <td>3</td>\n",
              "      <td>122.0</td>\n",
              "      <td>1</td>\n",
              "      <td>0</td>\n",
              "      <td>1</td>\n",
              "      <td>0</td>\n",
              "      <td>2</td>\n",
              "      <td>0</td>\n",
              "      <td>88.6</td>\n",
              "      <td>0</td>\n",
              "      <td>168.8</td>\n",
              "      <td>64.1</td>\n",
              "      <td>48.8</td>\n",
              "      <td>2548</td>\n",
              "      <td>0</td>\n",
              "      <td>2</td>\n",
              "      <td>130</td>\n",
              "      <td>5</td>\n",
              "      <td>23</td>\n",
              "      <td>4</td>\n",
              "      <td>9.0</td>\n",
              "      <td>5</td>\n",
              "      <td>10</td>\n",
              "      <td>21</td>\n",
              "      <td>27</td>\n",
              "      <td>13495.0</td>\n",
              "    </tr>\n",
              "    <tr>\n",
              "      <th>1</th>\n",
              "      <td>3</td>\n",
              "      <td>122.0</td>\n",
              "      <td>1</td>\n",
              "      <td>0</td>\n",
              "      <td>1</td>\n",
              "      <td>0</td>\n",
              "      <td>2</td>\n",
              "      <td>0</td>\n",
              "      <td>88.6</td>\n",
              "      <td>0</td>\n",
              "      <td>168.8</td>\n",
              "      <td>64.1</td>\n",
              "      <td>48.8</td>\n",
              "      <td>2548</td>\n",
              "      <td>0</td>\n",
              "      <td>2</td>\n",
              "      <td>130</td>\n",
              "      <td>5</td>\n",
              "      <td>23</td>\n",
              "      <td>4</td>\n",
              "      <td>9.0</td>\n",
              "      <td>5</td>\n",
              "      <td>10</td>\n",
              "      <td>21</td>\n",
              "      <td>27</td>\n",
              "      <td>16500.0</td>\n",
              "    </tr>\n",
              "    <tr>\n",
              "      <th>2</th>\n",
              "      <td>1</td>\n",
              "      <td>122.0</td>\n",
              "      <td>1</td>\n",
              "      <td>0</td>\n",
              "      <td>1</td>\n",
              "      <td>2</td>\n",
              "      <td>2</td>\n",
              "      <td>0</td>\n",
              "      <td>94.5</td>\n",
              "      <td>0</td>\n",
              "      <td>171.2</td>\n",
              "      <td>65.5</td>\n",
              "      <td>52.4</td>\n",
              "      <td>2823</td>\n",
              "      <td>4</td>\n",
              "      <td>3</td>\n",
              "      <td>152</td>\n",
              "      <td>5</td>\n",
              "      <td>1</td>\n",
              "      <td>27</td>\n",
              "      <td>9.0</td>\n",
              "      <td>20</td>\n",
              "      <td>10</td>\n",
              "      <td>19</td>\n",
              "      <td>26</td>\n",
              "      <td>16500.0</td>\n",
              "    </tr>\n",
              "    <tr>\n",
              "      <th>3</th>\n",
              "      <td>2</td>\n",
              "      <td>164.0</td>\n",
              "      <td>1</td>\n",
              "      <td>0</td>\n",
              "      <td>0</td>\n",
              "      <td>3</td>\n",
              "      <td>1</td>\n",
              "      <td>0</td>\n",
              "      <td>99.8</td>\n",
              "      <td>1</td>\n",
              "      <td>176.6</td>\n",
              "      <td>66.2</td>\n",
              "      <td>54.3</td>\n",
              "      <td>2337</td>\n",
              "      <td>2</td>\n",
              "      <td>2</td>\n",
              "      <td>109</td>\n",
              "      <td>5</td>\n",
              "      <td>13</td>\n",
              "      <td>24</td>\n",
              "      <td>10.0</td>\n",
              "      <td>2</td>\n",
              "      <td>16</td>\n",
              "      <td>24</td>\n",
              "      <td>30</td>\n",
              "      <td>13950.0</td>\n",
              "    </tr>\n",
              "    <tr>\n",
              "      <th>4</th>\n",
              "      <td>2</td>\n",
              "      <td>164.0</td>\n",
              "      <td>1</td>\n",
              "      <td>0</td>\n",
              "      <td>0</td>\n",
              "      <td>3</td>\n",
              "      <td>0</td>\n",
              "      <td>0</td>\n",
              "      <td>99.4</td>\n",
              "      <td>1</td>\n",
              "      <td>176.6</td>\n",
              "      <td>66.4</td>\n",
              "      <td>54.3</td>\n",
              "      <td>2824</td>\n",
              "      <td>2</td>\n",
              "      <td>1</td>\n",
              "      <td>136</td>\n",
              "      <td>5</td>\n",
              "      <td>13</td>\n",
              "      <td>24</td>\n",
              "      <td>8.0</td>\n",
              "      <td>8</td>\n",
              "      <td>16</td>\n",
              "      <td>18</td>\n",
              "      <td>22</td>\n",
              "      <td>17450.0</td>\n",
              "    </tr>\n",
              "  </tbody>\n",
              "</table>\n",
              "</div>"
            ],
            "text/plain": [
              "   symboling  normalized_losses  Fuel_Type  ...  city_mpg  highway_mpg    price\n",
              "0          3              122.0          1  ...        21           27  13495.0\n",
              "1          3              122.0          1  ...        21           27  16500.0\n",
              "2          1              122.0          1  ...        19           26  16500.0\n",
              "3          2              164.0          1  ...        24           30  13950.0\n",
              "4          2              164.0          1  ...        18           22  17450.0\n",
              "\n",
              "[5 rows x 26 columns]"
            ]
          },
          "metadata": {
            "tags": []
          },
          "execution_count": 36
        }
      ]
    },
    {
      "cell_type": "code",
      "metadata": {
        "id": "cg8-vggzbOHg",
        "colab_type": "code",
        "colab": {
          "base_uri": "https://localhost:8080/",
          "height": 215
        },
        "outputId": "3ef4d561-f428-4ede-d833-678605ae1081"
      },
      "source": [
        "original_data.tail()"
      ],
      "execution_count": null,
      "outputs": [
        {
          "output_type": "execute_result",
          "data": {
            "text/html": [
              "<div>\n",
              "<style scoped>\n",
              "    .dataframe tbody tr th:only-of-type {\n",
              "        vertical-align: middle;\n",
              "    }\n",
              "\n",
              "    .dataframe tbody tr th {\n",
              "        vertical-align: top;\n",
              "    }\n",
              "\n",
              "    .dataframe thead th {\n",
              "        text-align: right;\n",
              "    }\n",
              "</style>\n",
              "<table border=\"1\" class=\"dataframe\">\n",
              "  <thead>\n",
              "    <tr style=\"text-align: right;\">\n",
              "      <th></th>\n",
              "      <th>symboling</th>\n",
              "      <th>normalized_losses</th>\n",
              "      <th>Fuel_Type</th>\n",
              "      <th>Aspiration</th>\n",
              "      <th>No_of_Doors</th>\n",
              "      <th>Body_Style</th>\n",
              "      <th>Drive_Wheels</th>\n",
              "      <th>Engine_Location</th>\n",
              "      <th>Wheel_Base</th>\n",
              "      <th>Manufacturer</th>\n",
              "      <th>length</th>\n",
              "      <th>width</th>\n",
              "      <th>height</th>\n",
              "      <th>curb_weight</th>\n",
              "      <th>engine_type</th>\n",
              "      <th>num_of_cylinders</th>\n",
              "      <th>engine_size</th>\n",
              "      <th>fuel_system</th>\n",
              "      <th>bore</th>\n",
              "      <th>stroke</th>\n",
              "      <th>compression_ratio</th>\n",
              "      <th>horsepower</th>\n",
              "      <th>peak_rpm</th>\n",
              "      <th>city_mpg</th>\n",
              "      <th>highway_mpg</th>\n",
              "      <th>price</th>\n",
              "    </tr>\n",
              "  </thead>\n",
              "  <tbody>\n",
              "    <tr>\n",
              "      <th>200</th>\n",
              "      <td>-1</td>\n",
              "      <td>95.0</td>\n",
              "      <td>1</td>\n",
              "      <td>0</td>\n",
              "      <td>0</td>\n",
              "      <td>3</td>\n",
              "      <td>2</td>\n",
              "      <td>0</td>\n",
              "      <td>109.1</td>\n",
              "      <td>21</td>\n",
              "      <td>188.8</td>\n",
              "      <td>68.9</td>\n",
              "      <td>55.5</td>\n",
              "      <td>2952</td>\n",
              "      <td>2</td>\n",
              "      <td>2</td>\n",
              "      <td>141</td>\n",
              "      <td>5</td>\n",
              "      <td>35</td>\n",
              "      <td>15</td>\n",
              "      <td>9.5</td>\n",
              "      <td>7</td>\n",
              "      <td>15</td>\n",
              "      <td>23</td>\n",
              "      <td>28</td>\n",
              "      <td>16845.0</td>\n",
              "    </tr>\n",
              "    <tr>\n",
              "      <th>201</th>\n",
              "      <td>-1</td>\n",
              "      <td>95.0</td>\n",
              "      <td>1</td>\n",
              "      <td>1</td>\n",
              "      <td>0</td>\n",
              "      <td>3</td>\n",
              "      <td>2</td>\n",
              "      <td>0</td>\n",
              "      <td>109.1</td>\n",
              "      <td>21</td>\n",
              "      <td>188.8</td>\n",
              "      <td>68.8</td>\n",
              "      <td>55.5</td>\n",
              "      <td>3049</td>\n",
              "      <td>2</td>\n",
              "      <td>2</td>\n",
              "      <td>141</td>\n",
              "      <td>5</td>\n",
              "      <td>35</td>\n",
              "      <td>15</td>\n",
              "      <td>8.7</td>\n",
              "      <td>23</td>\n",
              "      <td>14</td>\n",
              "      <td>19</td>\n",
              "      <td>25</td>\n",
              "      <td>19045.0</td>\n",
              "    </tr>\n",
              "    <tr>\n",
              "      <th>202</th>\n",
              "      <td>-1</td>\n",
              "      <td>95.0</td>\n",
              "      <td>1</td>\n",
              "      <td>0</td>\n",
              "      <td>0</td>\n",
              "      <td>3</td>\n",
              "      <td>2</td>\n",
              "      <td>0</td>\n",
              "      <td>109.1</td>\n",
              "      <td>21</td>\n",
              "      <td>188.8</td>\n",
              "      <td>68.9</td>\n",
              "      <td>55.5</td>\n",
              "      <td>3012</td>\n",
              "      <td>4</td>\n",
              "      <td>3</td>\n",
              "      <td>173</td>\n",
              "      <td>5</td>\n",
              "      <td>26</td>\n",
              "      <td>7</td>\n",
              "      <td>8.8</td>\n",
              "      <td>13</td>\n",
              "      <td>16</td>\n",
              "      <td>18</td>\n",
              "      <td>23</td>\n",
              "      <td>21485.0</td>\n",
              "    </tr>\n",
              "    <tr>\n",
              "      <th>203</th>\n",
              "      <td>-1</td>\n",
              "      <td>95.0</td>\n",
              "      <td>0</td>\n",
              "      <td>1</td>\n",
              "      <td>0</td>\n",
              "      <td>3</td>\n",
              "      <td>2</td>\n",
              "      <td>0</td>\n",
              "      <td>109.1</td>\n",
              "      <td>21</td>\n",
              "      <td>188.8</td>\n",
              "      <td>68.9</td>\n",
              "      <td>55.5</td>\n",
              "      <td>3217</td>\n",
              "      <td>2</td>\n",
              "      <td>3</td>\n",
              "      <td>145</td>\n",
              "      <td>3</td>\n",
              "      <td>6</td>\n",
              "      <td>24</td>\n",
              "      <td>23.0</td>\n",
              "      <td>3</td>\n",
              "      <td>8</td>\n",
              "      <td>26</td>\n",
              "      <td>27</td>\n",
              "      <td>22470.0</td>\n",
              "    </tr>\n",
              "    <tr>\n",
              "      <th>204</th>\n",
              "      <td>-1</td>\n",
              "      <td>95.0</td>\n",
              "      <td>1</td>\n",
              "      <td>1</td>\n",
              "      <td>0</td>\n",
              "      <td>3</td>\n",
              "      <td>2</td>\n",
              "      <td>0</td>\n",
              "      <td>109.1</td>\n",
              "      <td>21</td>\n",
              "      <td>188.8</td>\n",
              "      <td>68.9</td>\n",
              "      <td>55.5</td>\n",
              "      <td>3062</td>\n",
              "      <td>2</td>\n",
              "      <td>2</td>\n",
              "      <td>141</td>\n",
              "      <td>5</td>\n",
              "      <td>35</td>\n",
              "      <td>15</td>\n",
              "      <td>9.5</td>\n",
              "      <td>7</td>\n",
              "      <td>15</td>\n",
              "      <td>19</td>\n",
              "      <td>25</td>\n",
              "      <td>22625.0</td>\n",
              "    </tr>\n",
              "  </tbody>\n",
              "</table>\n",
              "</div>"
            ],
            "text/plain": [
              "     symboling  normalized_losses  Fuel_Type  ...  city_mpg  highway_mpg    price\n",
              "200         -1               95.0          1  ...        23           28  16845.0\n",
              "201         -1               95.0          1  ...        19           25  19045.0\n",
              "202         -1               95.0          1  ...        18           23  21485.0\n",
              "203         -1               95.0          0  ...        26           27  22470.0\n",
              "204         -1               95.0          1  ...        19           25  22625.0\n",
              "\n",
              "[5 rows x 26 columns]"
            ]
          },
          "metadata": {
            "tags": []
          },
          "execution_count": 37
        }
      ]
    },
    {
      "cell_type": "markdown",
      "metadata": {
        "id": "PrnxnaTAbOHi",
        "colab_type": "text"
      },
      "source": [
        "## Model Building\n",
        "#### Basic model building code is complied into a single user-defined function which will be called for every iteration\n",
        "#### Before calling the build_model(), we will divide the data into X_Data and Y_Data\n",
        "#### The build_model() will print all required values to interpret the model"
      ]
    },
    {
      "cell_type": "code",
      "metadata": {
        "id": "hJBVGdvxbOHi",
        "colab_type": "code",
        "colab": {}
      },
      "source": [
        "from sklearn import linear_model\n",
        "from sklearn.model_selection import train_test_split\n",
        "\n",
        "def build_model(x_data, y_data):\n",
        "\n",
        "    #Spliting the dataset into train and test usign 80:20 ratio\n",
        "    x_train, x_test, y_train, y_test = train_test_split(x_data, y_data, test_size = 0.2, random_state = 101)\n",
        "\n",
        "    #printing dimentions of splitted dataset\n",
        "    print(\"Number of rows and columns in train dataset   : \", x_train.shape)\n",
        "    print(\"Number of rows and columns in test dataset    : \", x_test.shape)\n",
        "    print(\"----------------------------------------------------------------------------------\")\n",
        "    \n",
        "    #Setting the required parameters using the dataset dimensions\n",
        "    k = x_train.shape[1]       #number of columns in train dataset\n",
        "    n = x_train.shape[0]       #number of rows in train dataset\n",
        "\n",
        "    #creating reg object for model building\n",
        "    reg = linear_model.LinearRegression()\n",
        "    reg.fit(x_train, y_train)\n",
        "\n",
        "    #Printing beta values i.e. B0, B1, B2, B3, ...., Bn \n",
        "    df_feature_score  = pd.DataFrame({\"Feature\" : x_train.columns , \"Score\": list(reg.coef_ ) } )\n",
        "    print(\"\\nBeta values of all columns : \\n\", df_feature_score)\n",
        "    print(\"\\nBeta 0 value : \", reg.intercept_)\n",
        "    print(\"----------------------------------------------------------------------------------\")\n",
        "\n",
        "    #Calculating R Square value\n",
        "    R_Square = reg.score(x_train, y_train)\n",
        "    Adjusted_R_Square = 1 - (1 - R_Square) * (n - 1) / (n - k - 1)\n",
        "\n",
        "    #Printing calculated values\n",
        "    print(\"\\nR square            : \", round((R_Square * 100), 2), \" %\")\n",
        "    print(\"\\nAdjusted R square   : \", round((Adjusted_R_Square * 100), 2), \" %\")\n",
        "    print(\"----------------------------------------------------------------------------------\")\n",
        "\n",
        "    #Predicting values for the test dataset\n",
        "    predicted_values = reg.predict(x_test)\n",
        "\n",
        "    #calculating error (Actual_values - Predicted_values)\n",
        "    error = y_test - predicted_values\n",
        "    #plotting the error plot for check for normal distribution\n",
        "    sns.set(style='whitegrid', palette=\"deep\", rc={\"figure.figsize\": [8, 6]})\n",
        "    sns.distplot(error).set(xlabel='Error values');\n",
        "        \n",
        "    #calculating Mean of error, MSE, RMSE, MAE\n",
        "    Mean_Error = np.mean(error)\n",
        "    MSE = np.mean(error * error)\n",
        "    RMSE = np.power(MSE, .5)\n",
        "    MAE = np.mean(np.absolute(error))\n",
        "\n",
        "    #calculating Error Percentange and Accuracy Percentage\n",
        "    MAPE = np.mean(np.absolute(error/y_test)) * 100\n",
        "    Accuracy = 100 - MAPE\n",
        "\n",
        "    #printing all the calculated values\n",
        "    print(\"\\nMean value of Error                   : \", round(Mean_Error,2))\n",
        "    print(\"\\nMean Square Error - MSE               : \", round(MSE,2))\n",
        "    print(\"\\nRoot Mean Square Error - RMSE         : \", round(RMSE,2))\n",
        "    print(\"\\nMean Absolute Error - MAE             : \", round(MAE,2))\n",
        "    print(\"----------------------------------------------------------------------------------\")\n",
        "    print(\"\\nMean Absolute Percentage Error - MAPE : \", round(MAPE,2), \" %\")\n",
        "    print(\"\\nAccuracy percentage                   : \", round(Accuracy,2), \" %\")\n",
        "    print(\"----------------------------------------------------------------------------------\")"
      ],
      "execution_count": null,
      "outputs": []
    },
    {
      "cell_type": "code",
      "metadata": {
        "id": "8fjlG5mfbOHk",
        "colab_type": "code",
        "colab": {
          "base_uri": "https://localhost:8080/",
          "height": 34
        },
        "outputId": "4dee532f-5055-4a04-e17a-8b15438d1639"
      },
      "source": [
        "original_data.shape"
      ],
      "execution_count": null,
      "outputs": [
        {
          "output_type": "execute_result",
          "data": {
            "text/plain": [
              "(201, 26)"
            ]
          },
          "metadata": {
            "tags": []
          },
          "execution_count": 39
        }
      ]
    },
    {
      "cell_type": "code",
      "metadata": {
        "id": "Q3naxrvBbOHn",
        "colab_type": "code",
        "colab": {
          "base_uri": "https://localhost:8080/",
          "height": 1000
        },
        "outputId": "7541a3e4-0b04-4978-a425-693c57069990"
      },
      "source": [
        "#First Iteration of model building\n",
        "print(\"First Iteration : \")\n",
        "print(\"----------------------------------------------------------------------------------\")\n",
        "\n",
        "#preparing dataset as dependent(y_data) and independent(x_data)\n",
        "x_data = original_data.iloc[:, 0:25]\n",
        "y_data = original_data.iloc[:, -1]\n",
        "print(\"Number of rows and columns used for prediction  : \", x_data.shape)\n",
        "print(\"----------------------------------------------------------------------------------\")\n",
        "\n",
        "#calling user defined function \n",
        "build_model(x_data, y_data)"
      ],
      "execution_count": null,
      "outputs": [
        {
          "output_type": "stream",
          "text": [
            "First Iteration : \n",
            "----------------------------------------------------------------------------------\n",
            "Number of rows and columns used for prediction  :  (201, 25)\n",
            "----------------------------------------------------------------------------------\n",
            "Number of rows and columns in train dataset   :  (160, 25)\n",
            "Number of rows and columns in test dataset    :  (41, 25)\n",
            "----------------------------------------------------------------------------------\n",
            "\n",
            "Beta values of all columns : \n",
            "               Feature         Score\n",
            "0           symboling     99.274428\n",
            "1   normalized_losses     -9.177960\n",
            "2           Fuel_Type -11302.068244\n",
            "3          Aspiration    518.235658\n",
            "4         No_of_Doors   -514.398491\n",
            "5          Body_Style  -1090.489318\n",
            "6        Drive_Wheels   1295.346958\n",
            "7     Engine_Location  11550.563985\n",
            "8          Wheel_Base     97.158824\n",
            "9        Manufacturer   -179.465477\n",
            "10             length      7.374154\n",
            "11              width    626.423109\n",
            "12             height    309.183568\n",
            "13        curb_weight      1.688556\n",
            "14        engine_type   -100.479487\n",
            "15   num_of_cylinders     83.676870\n",
            "16        engine_size    118.041573\n",
            "17        fuel_system     -7.055851\n",
            "18               bore    -70.780243\n",
            "19             stroke   -169.503362\n",
            "20  compression_ratio   -707.126851\n",
            "21         horsepower    -25.435763\n",
            "22           peak_rpm    175.432909\n",
            "23           city_mpg    -97.383422\n",
            "24        highway_mpg    128.714313\n",
            "\n",
            "Beta 0 value :  -51358.89169460358\n",
            "----------------------------------------------------------------------------------\n",
            "\n",
            "R square            :  90.63  %\n",
            "\n",
            "Adjusted R square   :  88.89  %\n",
            "----------------------------------------------------------------------------------\n",
            "\n",
            "Mean value of Error                   :  217.93\n",
            "\n",
            "Mean Square Error - MSE               :  4751075.17\n",
            "\n",
            "Root Mean Square Error - RMSE         :  2179.7\n",
            "\n",
            "Mean Absolute Error - MAE             :  1786.48\n",
            "----------------------------------------------------------------------------------\n",
            "\n",
            "Mean Absolute Percentage Error - MAPE :  17.54  %\n",
            "\n",
            "Accuracy percentage                   :  82.46  %\n",
            "----------------------------------------------------------------------------------\n"
          ],
          "name": "stdout"
        },
        {
          "output_type": "display_data",
          "data": {
            "image/png": "[encoded data removed]",
            "text/plain": [
              "<Figure size 576x432 with 1 Axes>"
            ]
          },
          "metadata": {
            "tags": []
          }
        }
      ]
    },
    {
      "cell_type": "markdown",
      "metadata": {
        "id": "lWXmRrI-bOHq",
        "colab_type": "text"
      },
      "source": [
        "## Removing Outliers"
      ]
    },
    {
      "cell_type": "code",
      "metadata": {
        "id": "wY_CZe0xbOHr",
        "colab_type": "code",
        "colab": {}
      },
      "source": [
        "#For removing outliers\n",
        "def remove_outliers(dataframe, column, k=2):   \n",
        "    mean = dataframe[column].mean()\n",
        "    global modified_dataframe      \n",
        "    standarDeviation = dataframe[column].std()    \n",
        "    final_list = [x for x in dataframe[column] if (x > mean - k * standarDeviation)]\n",
        "    final_list = [x for x in final_list if (x < mean + k * standarDeviation)]       \n",
        "    modified_dataframe = dataframe.loc[dataframe[column].isin(final_list)]      \n"
      ],
      "execution_count": null,
      "outputs": []
    },
    {
      "cell_type": "code",
      "metadata": {
        "id": "1OnAQ_DQbOHt",
        "colab_type": "code",
        "colab": {
          "base_uri": "https://localhost:8080/",
          "height": 411
        },
        "outputId": "7cedf168-4002-4f2d-b0ae-5bfdb7ec2abc"
      },
      "source": [
        "sns.boxplot(x=original_data['price'])"
      ],
      "execution_count": null,
      "outputs": [
        {
          "output_type": "execute_result",
          "data": {
            "text/plain": [
              "<matplotlib.axes._subplots.AxesSubplot at 0x7efe4f6e72e8>"
            ]
          },
          "metadata": {
            "tags": []
          },
          "execution_count": 42
        },
        {
          "output_type": "display_data",
          "data": {
            "image/png": "[encoded data removed]",
            "text/plain": [
              "<Figure size 576x432 with 1 Axes>"
            ]
          },
          "metadata": {
            "tags": []
          }
        }
      ]
    },
    {
      "cell_type": "code",
      "metadata": {
        "id": "IqYp1LxxbOHw",
        "colab_type": "code",
        "colab": {
          "base_uri": "https://localhost:8080/",
          "height": 428
        },
        "outputId": "16bbe2b9-174f-42d4-d681-09867f6e350e"
      },
      "source": [
        "#Calling the user defined function\n",
        "remove_outliers(original_data, 'price', k=2)\n",
        "\n",
        "print(\"Total outliers removed : \", original_data.shape[0] - modified_dataframe.shape[0])\n",
        "sns.boxplot(x=modified_dataframe['price'])"
      ],
      "execution_count": null,
      "outputs": [
        {
          "output_type": "stream",
          "text": [
            "Total outliers removed :  14\n"
          ],
          "name": "stdout"
        },
        {
          "output_type": "execute_result",
          "data": {
            "text/plain": [
              "<matplotlib.axes._subplots.AxesSubplot at 0x7efe4f6dabe0>"
            ]
          },
          "metadata": {
            "tags": []
          },
          "execution_count": 43
        },
        {
          "output_type": "display_data",
          "data": {
            "image/png": "[encoded data removed]",
            "text/plain": [
              "<Figure size 576x432 with 1 Axes>"
            ]
          },
          "metadata": {
            "tags": []
          }
        }
      ]
    },
    {
      "cell_type": "code",
      "metadata": {
        "id": "yZLT2DjebOHy",
        "colab_type": "code",
        "colab": {
          "base_uri": "https://localhost:8080/",
          "height": 34
        },
        "outputId": "6662b134-0ddd-4bca-b8f3-883d1ad58323"
      },
      "source": [
        "modified_dataframe.shape"
      ],
      "execution_count": null,
      "outputs": [
        {
          "output_type": "execute_result",
          "data": {
            "text/plain": [
              "(187, 26)"
            ]
          },
          "metadata": {
            "tags": []
          },
          "execution_count": 44
        }
      ]
    },
    {
      "cell_type": "code",
      "metadata": {
        "id": "WHW-HTz7bOH0",
        "colab_type": "code",
        "colab": {
          "base_uri": "https://localhost:8080/",
          "height": 1000
        },
        "outputId": "d52f0f6f-b31a-4374-d03c-a97a79210ada"
      },
      "source": [
        "#Second Iteration of model building\n",
        "print(\"Second Iteration : \")\n",
        "print(\"----------------------------------------------------------------------------------\")\n",
        "\n",
        "#preparing dataset as dependent(y_data) and independent(x_data)\n",
        "x_data = modified_dataframe.iloc[:, 0:25]\n",
        "y_data = modified_dataframe.iloc[:, -1]\n",
        "print(\"Number of rows and columns used for prediction  : \", x_data.shape)\n",
        "print(\"----------------------------------------------------------------------------------\")\n",
        "\n",
        "#calling user defined function \n",
        "build_model(x_data, y_data)"
      ],
      "execution_count": null,
      "outputs": [
        {
          "output_type": "stream",
          "text": [
            "Second Iteration : \n",
            "----------------------------------------------------------------------------------\n",
            "Number of rows and columns used for prediction  :  (187, 25)\n",
            "----------------------------------------------------------------------------------\n",
            "Number of rows and columns in train dataset   :  (149, 25)\n",
            "Number of rows and columns in test dataset    :  (38, 25)\n",
            "----------------------------------------------------------------------------------\n",
            "\n",
            "Beta values of all columns : \n",
            "               Feature         Score\n",
            "0           symboling  4.752760e+01\n",
            "1   normalized_losses  4.741952e+00\n",
            "2           Fuel_Type  9.453998e+03\n",
            "3          Aspiration  1.731100e+03\n",
            "4         No_of_Doors -8.135323e+02\n",
            "5          Body_Style -4.871947e+02\n",
            "6        Drive_Wheels  1.595652e+03\n",
            "7     Engine_Location -2.948752e-12\n",
            "8          Wheel_Base  7.689566e+00\n",
            "9        Manufacturer -1.436593e+02\n",
            "10             length -4.469952e+01\n",
            "11              width  6.357641e+02\n",
            "12             height  2.777962e+02\n",
            "13        curb_weight  3.187418e+00\n",
            "14        engine_type  2.134704e+02\n",
            "15   num_of_cylinders -2.388001e+02\n",
            "16        engine_size  4.884581e+01\n",
            "17        fuel_system  5.325181e+01\n",
            "18               bore -3.580424e+01\n",
            "19             stroke -8.446740e+01\n",
            "20  compression_ratio  8.150068e+02\n",
            "21         horsepower -3.617124e+01\n",
            "22           peak_rpm -2.206253e+01\n",
            "23           city_mpg -1.527569e+02\n",
            "24        highway_mpg  3.717048e+01\n",
            "\n",
            "Beta 0 value :  -61881.640062734456\n",
            "----------------------------------------------------------------------------------\n",
            "\n",
            "R square            :  87.47  %\n",
            "\n",
            "Adjusted R square   :  84.92  %\n",
            "----------------------------------------------------------------------------------\n",
            "\n",
            "Mean value of Error                   :  -430.93\n",
            "\n",
            "Mean Square Error - MSE               :  3359660.86\n",
            "\n",
            "Root Mean Square Error - RMSE         :  1832.94\n",
            "\n",
            "Mean Absolute Error - MAE             :  1402.2\n",
            "----------------------------------------------------------------------------------\n",
            "\n",
            "Mean Absolute Percentage Error - MAPE :  12.36  %\n",
            "\n",
            "Accuracy percentage                   :  87.64  %\n",
            "----------------------------------------------------------------------------------\n"
          ],
          "name": "stdout"
        },
        {
          "output_type": "display_data",
          "data": {
            "image/png": "[encoded data removed]",
            "text/plain": [
              "<Figure size 576x432 with 1 Axes>"
            ]
          },
          "metadata": {
            "tags": []
          }
        }
      ]
    },
    {
      "cell_type": "markdown",
      "metadata": {
        "id": "MJxWQ3CfbOH3",
        "colab_type": "text"
      },
      "source": [
        "## Feature Selection "
      ]
    },
    {
      "cell_type": "code",
      "metadata": {
        "id": "Cnn-iTI3bOH3",
        "colab_type": "code",
        "colab": {}
      },
      "source": [
        "from sklearn.feature_selection import RFE\n",
        "from sklearn.tree import DecisionTreeClassifier\n",
        "\n",
        "dtc  = DecisionTreeClassifier()"
      ],
      "execution_count": null,
      "outputs": []
    },
    {
      "cell_type": "code",
      "metadata": {
        "id": "1q-jQqoFbOH5",
        "colab_type": "code",
        "colab": {
          "base_uri": "https://localhost:8080/",
          "height": 67
        },
        "outputId": "f0176cde-7bff-4d1f-b015-cf6a317d70e5"
      },
      "source": [
        "RFE_dtc = RFE(dtc , 15)\n",
        "RFE_dtc.fit(x_data , y_data)\n",
        "\n",
        "RFE_dtc.support_"
      ],
      "execution_count": null,
      "outputs": [
        {
          "output_type": "execute_result",
          "data": {
            "text/plain": [
              "array([ True,  True, False, False,  True,  True, False, False,  True,\n",
              "        True,  True,  True,  True,  True, False, False, False, False,\n",
              "       False,  True, False,  True,  True,  True,  True])"
            ]
          },
          "metadata": {
            "tags": []
          },
          "execution_count": 47
        }
      ]
    },
    {
      "cell_type": "code",
      "metadata": {
        "id": "mKtQfLJWbOH7",
        "colab_type": "code",
        "colab": {
          "base_uri": "https://localhost:8080/",
          "height": 454
        },
        "outputId": "dd2183d7-a375-427c-e1d1-83d8e3055bdf"
      },
      "source": [
        "df_feature  = pd.DataFrame({\"Feature\" : x_data.columns , \"Significant Status\": list(RFE_dtc.support_) } )\n",
        "print(df_feature)"
      ],
      "execution_count": null,
      "outputs": [
        {
          "output_type": "stream",
          "text": [
            "              Feature  Significant Status\n",
            "0           symboling                True\n",
            "1   normalized_losses                True\n",
            "2           Fuel_Type               False\n",
            "3          Aspiration               False\n",
            "4         No_of_Doors                True\n",
            "5          Body_Style                True\n",
            "6        Drive_Wheels               False\n",
            "7     Engine_Location               False\n",
            "8          Wheel_Base                True\n",
            "9        Manufacturer                True\n",
            "10             length                True\n",
            "11              width                True\n",
            "12             height                True\n",
            "13        curb_weight                True\n",
            "14        engine_type               False\n",
            "15   num_of_cylinders               False\n",
            "16        engine_size               False\n",
            "17        fuel_system               False\n",
            "18               bore               False\n",
            "19             stroke                True\n",
            "20  compression_ratio               False\n",
            "21         horsepower                True\n",
            "22           peak_rpm                True\n",
            "23           city_mpg                True\n",
            "24        highway_mpg                True\n"
          ],
          "name": "stdout"
        }
      ]
    },
    {
      "cell_type": "code",
      "metadata": {
        "id": "WegmbB-cbOH-",
        "colab_type": "code",
        "colab": {
          "base_uri": "https://localhost:8080/",
          "height": 286
        },
        "outputId": "ec3aedf3-a92a-456a-c55a-fb4b06ad09cc"
      },
      "source": [
        "print(df_feature[df_feature['Significant Status'] == True])"
      ],
      "execution_count": null,
      "outputs": [
        {
          "output_type": "stream",
          "text": [
            "              Feature  Significant Status\n",
            "0           symboling                True\n",
            "1   normalized_losses                True\n",
            "4         No_of_Doors                True\n",
            "5          Body_Style                True\n",
            "8          Wheel_Base                True\n",
            "9        Manufacturer                True\n",
            "10             length                True\n",
            "11              width                True\n",
            "12             height                True\n",
            "13        curb_weight                True\n",
            "19             stroke                True\n",
            "21         horsepower                True\n",
            "22           peak_rpm                True\n",
            "23           city_mpg                True\n",
            "24        highway_mpg                True\n"
          ],
          "name": "stdout"
        }
      ]
    },
    {
      "cell_type": "code",
      "metadata": {
        "id": "EiQXmWNkgZP_",
        "colab_type": "code",
        "colab": {
          "base_uri": "https://localhost:8080/",
          "height": 34
        },
        "outputId": "3069b41a-8910-433c-89dd-3dfe2bf2f029"
      },
      "source": [
        "df_feature[df_feature['Significant Status'] == True].index"
      ],
      "execution_count": null,
      "outputs": [
        {
          "output_type": "execute_result",
          "data": {
            "text/plain": [
              "Int64Index([0, 1, 4, 5, 8, 9, 10, 11, 12, 13, 19, 21, 22, 23, 24], dtype='int64')"
            ]
          },
          "metadata": {
            "tags": []
          },
          "execution_count": 50
        }
      ]
    },
    {
      "cell_type": "code",
      "metadata": {
        "id": "qOAKIHIJbOIA",
        "colab_type": "code",
        "colab": {
          "base_uri": "https://localhost:8080/",
          "height": 1000
        },
        "outputId": "9e37dbf0-287a-494e-97fd-e0fe6fac124e"
      },
      "source": [
        "#Third Iteration of model building\n",
        "print(\"Third Iteration of model building ------------------------------------------------\")\n",
        "\n",
        "#preparing dataset as dependent(y_data) and independent(x_data)\n",
        "x_data = modified_dataframe.iloc[:, [0, 1, 4, 5, 8, 9, 10, 11, 12, 13, 19, 21, 22, 23, 24]]\n",
        "y_data = modified_dataframe.iloc[:, -1]\n",
        "print(\"Number of rows and columns used for prediction  : \", x_data.shape)\n",
        "print(\"----------------------------------------------------------------------------------\")\n",
        "\n",
        "#calling user defined function \n",
        "build_model(x_data, y_data)"
      ],
      "execution_count": null,
      "outputs": [
        {
          "output_type": "stream",
          "text": [
            "Third Iteration of model building ------------------------------------------------\n",
            "Number of rows and columns used for prediction  :  (187, 15)\n",
            "----------------------------------------------------------------------------------\n",
            "Number of rows and columns in train dataset   :  (149, 15)\n",
            "Number of rows and columns in test dataset    :  (38, 15)\n",
            "----------------------------------------------------------------------------------\n",
            "\n",
            "Beta values of all columns : \n",
            "               Feature       Score\n",
            "0           symboling -201.104550\n",
            "1   normalized_losses   11.174627\n",
            "2         No_of_Doors -330.578195\n",
            "3          Body_Style -654.143469\n",
            "4          Wheel_Base   32.249484\n",
            "5        Manufacturer -129.961928\n",
            "6              length  -38.851708\n",
            "7               width  735.534463\n",
            "8              height   95.626283\n",
            "9         curb_weight    7.051613\n",
            "10             stroke  -42.379939\n",
            "11         horsepower  -62.971572\n",
            "12           peak_rpm  -67.303468\n",
            "13           city_mpg  -49.579430\n",
            "14        highway_mpg   60.387129\n",
            "\n",
            "Beta 0 value :  -50593.74965620366\n",
            "----------------------------------------------------------------------------------\n",
            "\n",
            "R square            :  84.57  %\n",
            "\n",
            "Adjusted R square   :  82.83  %\n",
            "----------------------------------------------------------------------------------\n",
            "\n",
            "Mean value of Error                   :  -230.65\n",
            "\n",
            "Mean Square Error - MSE               :  3633613.71\n",
            "\n",
            "Root Mean Square Error - RMSE         :  1906.2\n",
            "\n",
            "Mean Absolute Error - MAE             :  1441.2\n",
            "----------------------------------------------------------------------------------\n",
            "\n",
            "Mean Absolute Percentage Error - MAPE :  12.29  %\n",
            "\n",
            "Accuracy percentage                   :  87.71  %\n",
            "----------------------------------------------------------------------------------\n"
          ],
          "name": "stdout"
        },
        {
          "output_type": "display_data",
          "data": {
            "image/png": "[encoded data removed]",
            "text/plain": [
              "<Figure size 576x432 with 1 Axes>"
            ]
          },
          "metadata": {
            "tags": []
          }
        }
      ]
    },
    {
      "cell_type": "markdown",
      "metadata": {
        "id": "0tSiWF2rKhjp",
        "colab_type": "text"
      },
      "source": [
        "# Conclusion\n",
        "1. Initially we removed null values from the dataset, using various techniques like mean, padding, etc.\n",
        "2. With the data we transformed all the object types, using LabelEncoder.\n",
        "3. Later with all the changes, we did basic data exploration using value counts and basic count graphs.\n",
        "4. Created a model, to predict the price records using all the independent columns. The model predictions were good and the metrics we got from the first iteration are: \n",
        "    * R square            :  90.63  %\n",
        "    * Adjusted R square   :  88.89  %\n",
        "    * Accuracy percentage :  82.46  % \n",
        "5. Then removed some outliers from the our predicted column i.e. price and recreated the model, to predict the price records using all the independent columns. The model predictions improved even more and the metrics we got from the second iteration are: \n",
        "    * R square            :  87.47  %\n",
        "    * Adjusted R square   :  84.92  %\n",
        "    * Accuracy percentage :  87.64  % \n",
        "6. Finally, did feature selection on the modified dataset(i.e. after removing the outliers) where only top 15 significant columns were considered for building model. Here the model predictions improved with very less margin. The metrics we got from the thrid iteration are:\n",
        "    * R square            :  84.57  %\n",
        "    * Adjusted R square   :  82.83  %\n",
        "    * Accuracy percentage :  87.71  % \n",
        "\n",
        "**Thus, we found that parameters such as Manufacturer, curb weight,  Body_Style, horsepower, highway_mpg are some of the parameters, which show strong association for predicting the car price.**\n"
      ]
    },
    {
      "cell_type": "code",
      "metadata": {
        "id": "OMJ1VQxwO1M_",
        "colab_type": "code",
        "colab": {}
      },
      "source": [
        ""
      ],
      "execution_count": null,
      "outputs": []
    }
  ]
}